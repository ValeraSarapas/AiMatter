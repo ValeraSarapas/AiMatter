{
 "cells": [
  {
   "cell_type": "markdown",
   "metadata": {},
   "source": [
    "# Read training data file"
   ]
  },
  {
   "cell_type": "code",
   "execution_count": 1,
   "metadata": {
    "collapsed": true
   },
   "outputs": [],
   "source": [
    "import numpy as np # linear algebra\n",
    "import pandas as pd # data processing, CSV file I/O (e.g. pd.read_csv)\n",
    "import time\n",
    "import utils"
   ]
  },
  {
   "cell_type": "code",
   "execution_count": 2,
   "metadata": {},
   "outputs": [
    {
     "name": "stdout",
     "output_type": "stream",
     "text": [
      "Reading Data...\n"
     ]
    },
    {
     "data": {
      "text/html": [
       "<div>\n",
       "<table border=\"1\" class=\"dataframe\">\n",
       "  <thead>\n",
       "    <tr style=\"text-align: right;\">\n",
       "      <th></th>\n",
       "      <th>Image</th>\n",
       "      <th>Eyeglasses</th>\n",
       "      <th>Mustache</th>\n",
       "      <th>Smiling</th>\n",
       "      <th>Wearing_Hat</th>\n",
       "      <th>Type</th>\n",
       "      <th>0</th>\n",
       "      <th>1</th>\n",
       "      <th>2</th>\n",
       "      <th>3</th>\n",
       "      <th>...</th>\n",
       "      <th>16374</th>\n",
       "      <th>16375</th>\n",
       "      <th>16376</th>\n",
       "      <th>16377</th>\n",
       "      <th>16378</th>\n",
       "      <th>16379</th>\n",
       "      <th>16380</th>\n",
       "      <th>16381</th>\n",
       "      <th>16382</th>\n",
       "      <th>16383</th>\n",
       "    </tr>\n",
       "  </thead>\n",
       "  <tbody>\n",
       "    <tr>\n",
       "      <th>0</th>\n",
       "      <td>000016.jpg</td>\n",
       "      <td>-1</td>\n",
       "      <td>-1</td>\n",
       "      <td>1</td>\n",
       "      <td>-1</td>\n",
       "      <td>0</td>\n",
       "      <td>23</td>\n",
       "      <td>23</td>\n",
       "      <td>23</td>\n",
       "      <td>23</td>\n",
       "      <td>...</td>\n",
       "      <td>29</td>\n",
       "      <td>30</td>\n",
       "      <td>30</td>\n",
       "      <td>30</td>\n",
       "      <td>31</td>\n",
       "      <td>32</td>\n",
       "      <td>33</td>\n",
       "      <td>34</td>\n",
       "      <td>33</td>\n",
       "      <td>32</td>\n",
       "    </tr>\n",
       "    <tr>\n",
       "      <th>1</th>\n",
       "      <td>000025.jpg</td>\n",
       "      <td>-1</td>\n",
       "      <td>-1</td>\n",
       "      <td>-1</td>\n",
       "      <td>-1</td>\n",
       "      <td>0</td>\n",
       "      <td>85</td>\n",
       "      <td>89</td>\n",
       "      <td>88</td>\n",
       "      <td>81</td>\n",
       "      <td>...</td>\n",
       "      <td>79</td>\n",
       "      <td>75</td>\n",
       "      <td>77</td>\n",
       "      <td>71</td>\n",
       "      <td>72</td>\n",
       "      <td>75</td>\n",
       "      <td>77</td>\n",
       "      <td>82</td>\n",
       "      <td>81</td>\n",
       "      <td>75</td>\n",
       "    </tr>\n",
       "    <tr>\n",
       "      <th>2</th>\n",
       "      <td>000026.jpg</td>\n",
       "      <td>-1</td>\n",
       "      <td>-1</td>\n",
       "      <td>-1</td>\n",
       "      <td>-1</td>\n",
       "      <td>0</td>\n",
       "      <td>172</td>\n",
       "      <td>169</td>\n",
       "      <td>175</td>\n",
       "      <td>184</td>\n",
       "      <td>...</td>\n",
       "      <td>74</td>\n",
       "      <td>96</td>\n",
       "      <td>96</td>\n",
       "      <td>99</td>\n",
       "      <td>112</td>\n",
       "      <td>129</td>\n",
       "      <td>122</td>\n",
       "      <td>87</td>\n",
       "      <td>61</td>\n",
       "      <td>62</td>\n",
       "    </tr>\n",
       "    <tr>\n",
       "      <th>3</th>\n",
       "      <td>000028.jpg</td>\n",
       "      <td>-1</td>\n",
       "      <td>-1</td>\n",
       "      <td>1</td>\n",
       "      <td>-1</td>\n",
       "      <td>0</td>\n",
       "      <td>233</td>\n",
       "      <td>231</td>\n",
       "      <td>231</td>\n",
       "      <td>234</td>\n",
       "      <td>...</td>\n",
       "      <td>178</td>\n",
       "      <td>184</td>\n",
       "      <td>187</td>\n",
       "      <td>186</td>\n",
       "      <td>191</td>\n",
       "      <td>191</td>\n",
       "      <td>193</td>\n",
       "      <td>191</td>\n",
       "      <td>187</td>\n",
       "      <td>187</td>\n",
       "    </tr>\n",
       "    <tr>\n",
       "      <th>4</th>\n",
       "      <td>000037.jpg</td>\n",
       "      <td>-1</td>\n",
       "      <td>-1</td>\n",
       "      <td>-1</td>\n",
       "      <td>1</td>\n",
       "      <td>0</td>\n",
       "      <td>77</td>\n",
       "      <td>76</td>\n",
       "      <td>74</td>\n",
       "      <td>73</td>\n",
       "      <td>...</td>\n",
       "      <td>57</td>\n",
       "      <td>57</td>\n",
       "      <td>57</td>\n",
       "      <td>57</td>\n",
       "      <td>57</td>\n",
       "      <td>57</td>\n",
       "      <td>57</td>\n",
       "      <td>57</td>\n",
       "      <td>57</td>\n",
       "      <td>57</td>\n",
       "    </tr>\n",
       "  </tbody>\n",
       "</table>\n",
       "<p>5 rows × 16390 columns</p>\n",
       "</div>"
      ],
      "text/plain": [
       "        Image  Eyeglasses  Mustache  Smiling  Wearing_Hat  Type    0    1  \\\n",
       "0  000016.jpg          -1        -1        1           -1     0   23   23   \n",
       "1  000025.jpg          -1        -1       -1           -1     0   85   89   \n",
       "2  000026.jpg          -1        -1       -1           -1     0  172  169   \n",
       "3  000028.jpg          -1        -1        1           -1     0  233  231   \n",
       "4  000037.jpg          -1        -1       -1            1     0   77   76   \n",
       "\n",
       "     2    3  ...    16374  16375  16376  16377  16378  16379  16380  16381  \\\n",
       "0   23   23  ...       29     30     30     30     31     32     33     34   \n",
       "1   88   81  ...       79     75     77     71     72     75     77     82   \n",
       "2  175  184  ...       74     96     96     99    112    129    122     87   \n",
       "3  231  234  ...      178    184    187    186    191    191    193    191   \n",
       "4   74   73  ...       57     57     57     57     57     57     57     57   \n",
       "\n",
       "   16382  16383  \n",
       "0     33     32  \n",
       "1     81     75  \n",
       "2     61     62  \n",
       "3    187    187  \n",
       "4     57     57  \n",
       "\n",
       "[5 rows x 16390 columns]"
      ]
     },
     "execution_count": 2,
     "metadata": {},
     "output_type": "execute_result"
    }
   ],
   "source": [
    "print('Reading Data...')\n",
    "data = pd.read_csv('train_minimal_128.csv',header = 0, index_col=0)\n",
    "data.head()"
   ]
  },
  {
   "cell_type": "code",
   "execution_count": 3,
   "metadata": {
    "collapsed": true
   },
   "outputs": [],
   "source": [
    "X_train = data.drop(['Image','Eyeglasses','Mustache','Smiling','Wearing_Hat','Type'], axis=1)\n",
    "#X_train = X_train.astype(np.float64)\n",
    "#X_train = X_train.values/ 255.0\n",
    "#X_train = np.array(X_train)\n",
    "\n",
    "# pre-processing: divide by max and substract mean\n",
    "scale = np.max(X_train)\n",
    "X_train /= scale\n",
    "\n",
    "mean = np.std(X_train).astype(np.int64)\n",
    "X_train -= mean\n",
    "X_train = (X_train.values).astype('float64')"
   ]
  },
  {
   "cell_type": "code",
   "execution_count": 4,
   "metadata": {},
   "outputs": [
    {
     "data": {
      "text/plain": [
       "Mustache_      2000\n",
       "Wearing_Hat    2000\n",
       "Eyeglasses_    2000\n",
       "Neutral        2000\n",
       "Smiling_       2000\n",
       "dtype: int64"
      ]
     },
     "execution_count": 4,
     "metadata": {},
     "output_type": "execute_result"
    }
   ],
   "source": [
    "Y_train = data[['Eyeglasses','Mustache','Smiling','Wearing_Hat']]\n",
    "Y_train = Y_train.apply(utils.create_labels, axis = 1)\n",
    "Y_train.value_counts()"
   ]
  },
  {
   "cell_type": "markdown",
   "metadata": {},
   "source": [
    "# Train model"
   ]
  },
  {
   "cell_type": "code",
   "execution_count": 5,
   "metadata": {},
   "outputs": [
    {
     "name": "stdout",
     "output_type": "stream",
     "text": [
      "Iteration 1, loss = 1.88527947\n",
      "Iteration 2, loss = 1.09811757\n",
      "Iteration 3, loss = 0.95548728\n",
      "Iteration 4, loss = 0.93991966\n",
      "Iteration 5, loss = 0.84508525\n",
      "Iteration 6, loss = 0.81222890\n",
      "Iteration 7, loss = 0.78925120\n",
      "Iteration 8, loss = 0.76548229\n",
      "Iteration 9, loss = 0.78886221\n",
      "Iteration 10, loss = 0.72093308\n",
      "Iteration 11, loss = 0.71373241\n",
      "Iteration 12, loss = 0.70461126\n",
      "Iteration 13, loss = 0.70559190\n",
      "Iteration 14, loss = 0.68541477\n",
      "Iteration 15, loss = 0.68080606\n",
      "Iteration 16, loss = 0.63559949\n",
      "Iteration 17, loss = 0.64026332\n",
      "Iteration 18, loss = 0.59477336\n",
      "Iteration 19, loss = 0.58371767\n",
      "Iteration 20, loss = 0.59985030\n",
      "Iteration 21, loss = 0.60728895\n",
      "Iteration 22, loss = 0.58988476\n",
      "Training loss did not improve more than tol=0.000100 for two consecutive epochs. Stopping.\n",
      "0.7993\n"
     ]
    }
   ],
   "source": [
    "from sklearn.neural_network import MLPClassifier\n",
    "\n",
    "start_time = time.clock()\n",
    "\n",
    "# build the classifier\n",
    "clf=MLPClassifier(random_state=0,hidden_layer_sizes=(1024,128),activation='relu',batch_size=50, learning_rate='adaptive',\n",
    "                  max_iter=200, verbose=True,early_stopping=False)\n",
    "clf.fit(X_train,Y_train)\n",
    "\n",
    "print(clf.score(X_train,Y_train))"
   ]
  },
  {
   "cell_type": "code",
   "execution_count": 6,
   "metadata": {},
   "outputs": [
    {
     "name": "stdout",
     "output_type": "stream",
     "text": [
      "Training time: 1:35:49\n"
     ]
    }
   ],
   "source": [
    "time_sec = time.clock() - start_time\n",
    "m, s = divmod(time_sec, 60)\n",
    "h, m = divmod(m, 60)\n",
    "print (\"Training time: %d:%02d:%02d\" % (h, m, s))"
   ]
  },
  {
   "cell_type": "code",
   "execution_count": null,
   "metadata": {
    "collapsed": true
   },
   "outputs": [],
   "source": [
    "import pickle\n",
    "# save the model to disk\n",
    "filename = 'MLP_finalized_model.sav'\n",
    "pickle.dump(clf, open(filename, 'wb'))"
   ]
  },
  {
   "cell_type": "code",
   "execution_count": null,
   "metadata": {
    "collapsed": true
   },
   "outputs": [],
   "source": [
    "# load the model from disk\n",
    "#clf = pickle.load(open(filename, 'rb'))\n",
    "#clf.score(X, Y)"
   ]
  },
  {
   "cell_type": "markdown",
   "metadata": {},
   "source": [
    "# Verify model"
   ]
  },
  {
   "cell_type": "code",
   "execution_count": 7,
   "metadata": {},
   "outputs": [
    {
     "data": {
      "text/html": [
       "<div>\n",
       "<table border=\"1\" class=\"dataframe\">\n",
       "  <thead>\n",
       "    <tr style=\"text-align: right;\">\n",
       "      <th></th>\n",
       "      <th>Image</th>\n",
       "      <th>Eyeglasses</th>\n",
       "      <th>Mustache</th>\n",
       "      <th>Smiling</th>\n",
       "      <th>Wearing_Hat</th>\n",
       "      <th>Type</th>\n",
       "      <th>0</th>\n",
       "      <th>1</th>\n",
       "      <th>2</th>\n",
       "      <th>3</th>\n",
       "      <th>...</th>\n",
       "      <th>16374</th>\n",
       "      <th>16375</th>\n",
       "      <th>16376</th>\n",
       "      <th>16377</th>\n",
       "      <th>16378</th>\n",
       "      <th>16379</th>\n",
       "      <th>16380</th>\n",
       "      <th>16381</th>\n",
       "      <th>16382</th>\n",
       "      <th>16383</th>\n",
       "    </tr>\n",
       "  </thead>\n",
       "  <tbody>\n",
       "    <tr>\n",
       "      <th>0</th>\n",
       "      <td>162783.jpg</td>\n",
       "      <td>-1</td>\n",
       "      <td>-1</td>\n",
       "      <td>-1</td>\n",
       "      <td>-1</td>\n",
       "      <td>1</td>\n",
       "      <td>206</td>\n",
       "      <td>206</td>\n",
       "      <td>206</td>\n",
       "      <td>206</td>\n",
       "      <td>...</td>\n",
       "      <td>214</td>\n",
       "      <td>215</td>\n",
       "      <td>216</td>\n",
       "      <td>215</td>\n",
       "      <td>215</td>\n",
       "      <td>214</td>\n",
       "      <td>213</td>\n",
       "      <td>213</td>\n",
       "      <td>213</td>\n",
       "      <td>213</td>\n",
       "    </tr>\n",
       "    <tr>\n",
       "      <th>1</th>\n",
       "      <td>162807.jpg</td>\n",
       "      <td>1</td>\n",
       "      <td>-1</td>\n",
       "      <td>-1</td>\n",
       "      <td>-1</td>\n",
       "      <td>1</td>\n",
       "      <td>100</td>\n",
       "      <td>101</td>\n",
       "      <td>93</td>\n",
       "      <td>80</td>\n",
       "      <td>...</td>\n",
       "      <td>33</td>\n",
       "      <td>28</td>\n",
       "      <td>31</td>\n",
       "      <td>33</td>\n",
       "      <td>30</td>\n",
       "      <td>30</td>\n",
       "      <td>37</td>\n",
       "      <td>38</td>\n",
       "      <td>34</td>\n",
       "      <td>33</td>\n",
       "    </tr>\n",
       "    <tr>\n",
       "      <th>2</th>\n",
       "      <td>162813.jpg</td>\n",
       "      <td>-1</td>\n",
       "      <td>-1</td>\n",
       "      <td>1</td>\n",
       "      <td>-1</td>\n",
       "      <td>1</td>\n",
       "      <td>58</td>\n",
       "      <td>58</td>\n",
       "      <td>56</td>\n",
       "      <td>57</td>\n",
       "      <td>...</td>\n",
       "      <td>41</td>\n",
       "      <td>40</td>\n",
       "      <td>40</td>\n",
       "      <td>40</td>\n",
       "      <td>41</td>\n",
       "      <td>42</td>\n",
       "      <td>43</td>\n",
       "      <td>43</td>\n",
       "      <td>43</td>\n",
       "      <td>43</td>\n",
       "    </tr>\n",
       "    <tr>\n",
       "      <th>3</th>\n",
       "      <td>162827.jpg</td>\n",
       "      <td>-1</td>\n",
       "      <td>-1</td>\n",
       "      <td>-1</td>\n",
       "      <td>-1</td>\n",
       "      <td>1</td>\n",
       "      <td>79</td>\n",
       "      <td>77</td>\n",
       "      <td>77</td>\n",
       "      <td>80</td>\n",
       "      <td>...</td>\n",
       "      <td>176</td>\n",
       "      <td>199</td>\n",
       "      <td>196</td>\n",
       "      <td>188</td>\n",
       "      <td>168</td>\n",
       "      <td>143</td>\n",
       "      <td>145</td>\n",
       "      <td>150</td>\n",
       "      <td>170</td>\n",
       "      <td>180</td>\n",
       "    </tr>\n",
       "    <tr>\n",
       "      <th>4</th>\n",
       "      <td>162844.jpg</td>\n",
       "      <td>-1</td>\n",
       "      <td>-1</td>\n",
       "      <td>-1</td>\n",
       "      <td>1</td>\n",
       "      <td>1</td>\n",
       "      <td>42</td>\n",
       "      <td>42</td>\n",
       "      <td>42</td>\n",
       "      <td>42</td>\n",
       "      <td>...</td>\n",
       "      <td>204</td>\n",
       "      <td>204</td>\n",
       "      <td>204</td>\n",
       "      <td>204</td>\n",
       "      <td>204</td>\n",
       "      <td>205</td>\n",
       "      <td>206</td>\n",
       "      <td>206</td>\n",
       "      <td>206</td>\n",
       "      <td>206</td>\n",
       "    </tr>\n",
       "  </tbody>\n",
       "</table>\n",
       "<p>5 rows × 16390 columns</p>\n",
       "</div>"
      ],
      "text/plain": [
       "        Image  Eyeglasses  Mustache  Smiling  Wearing_Hat  Type    0    1  \\\n",
       "0  162783.jpg          -1        -1       -1           -1     1  206  206   \n",
       "1  162807.jpg           1        -1       -1           -1     1  100  101   \n",
       "2  162813.jpg          -1        -1        1           -1     1   58   58   \n",
       "3  162827.jpg          -1        -1       -1           -1     1   79   77   \n",
       "4  162844.jpg          -1        -1       -1            1     1   42   42   \n",
       "\n",
       "     2    3  ...    16374  16375  16376  16377  16378  16379  16380  16381  \\\n",
       "0  206  206  ...      214    215    216    215    215    214    213    213   \n",
       "1   93   80  ...       33     28     31     33     30     30     37     38   \n",
       "2   56   57  ...       41     40     40     40     41     42     43     43   \n",
       "3   77   80  ...      176    199    196    188    168    143    145    150   \n",
       "4   42   42  ...      204    204    204    204    204    205    206    206   \n",
       "\n",
       "   16382  16383  \n",
       "0    213    213  \n",
       "1     34     33  \n",
       "2     43     43  \n",
       "3    170    180  \n",
       "4    206    206  \n",
       "\n",
       "[5 rows x 16390 columns]"
      ]
     },
     "execution_count": 7,
     "metadata": {},
     "output_type": "execute_result"
    }
   ],
   "source": [
    "# read training data and test data\n",
    "data_verify = pd.read_csv('verify_minimal_128.csv',header = 0, index_col=0)\n",
    "data_verify.head()"
   ]
  },
  {
   "cell_type": "code",
   "execution_count": 8,
   "metadata": {
    "collapsed": true
   },
   "outputs": [],
   "source": [
    "X_verify = data_verify.drop(['Image','Eyeglasses','Mustache','Smiling','Wearing_Hat','Type'], axis=1)\n",
    "#X_train = X_train.astype(np.float64)\n",
    "#X_train = X_train.values/ 255.0\n",
    "#X_train = np.array(X_train)\n",
    "\n",
    "# pre-processing: divide by max and substract mean\n",
    "scale = np.max(X_verify)\n",
    "X_verify /= scale\n",
    "\n",
    "mean = np.std(X_verify).astype(np.int64)\n",
    "X_verify -= mean\n",
    "X_verify = (X_verify.values).astype('float64')"
   ]
  },
  {
   "cell_type": "code",
   "execution_count": 9,
   "metadata": {},
   "outputs": [
    {
     "data": {
      "text/plain": [
       "Mustache_      400\n",
       "Wearing_Hat    400\n",
       "Smiling_       400\n",
       "Neutral        400\n",
       "Eyeglasses_    400\n",
       "dtype: int64"
      ]
     },
     "execution_count": 9,
     "metadata": {},
     "output_type": "execute_result"
    }
   ],
   "source": [
    "Y_verify = data_verify[['Eyeglasses','Mustache','Smiling','Wearing_Hat']]\n",
    "Y_verify = Y_verify.apply(utils.create_labels, axis = 1)\n",
    "Y_verify.value_counts()"
   ]
  },
  {
   "cell_type": "code",
   "execution_count": 35,
   "metadata": {},
   "outputs": [
    {
     "data": {
      "text/plain": [
       "(10000L, 16384L)"
      ]
     },
     "execution_count": 35,
     "metadata": {},
     "output_type": "execute_result"
    }
   ],
   "source": [
    "X_train.shape"
   ]
  },
  {
   "cell_type": "code",
   "execution_count": 30,
   "metadata": {},
   "outputs": [
    {
     "data": {
      "text/plain": [
       "(2000L,)"
      ]
     },
     "execution_count": 30,
     "metadata": {},
     "output_type": "execute_result"
    }
   ],
   "source": [
    "Y_verify.shape"
   ]
  },
  {
   "cell_type": "code",
   "execution_count": 10,
   "metadata": {},
   "outputs": [
    {
     "name": "stdout",
     "output_type": "stream",
     "text": [
      "('Accuracy on verification set:', 0.72950000000000004)\n"
     ]
    }
   ],
   "source": [
    "print (\"Accuracy on verification set:\", clf.score(X_verify,Y_verify))"
   ]
  },
  {
   "cell_type": "code",
   "execution_count": null,
   "metadata": {
    "collapsed": true
   },
   "outputs": [],
   "source": [
    "import pickle\n",
    "clf=MLPClassifier(random_state=0,hidden_layer_sizes=1000,activation='logistic',max_iter=100)\n",
    "# load the model from disk\n",
    "filename = 'MLP_finalized_model.sav'\n",
    "clf = pickle.load(open(filename, 'rb'))\n",
    "print (\"Accuracy on verification set:\", clf.score(X_test,Y_test_labels))"
   ]
  },
  {
   "cell_type": "raw",
   "metadata": {
    "collapsed": true
   },
   "source": [
    "#lin_clf = svm.LinearSVC(class_weight='auto')\n",
    "Accuracy on verification set: 0.633160517441"
   ]
  },
  {
   "cell_type": "code",
   "execution_count": 28,
   "metadata": {},
   "outputs": [
    {
     "ename": "NameError",
     "evalue": "name 'X' is not defined",
     "output_type": "error",
     "traceback": [
      "\u001b[1;31m---------------------------------------------------------------------------\u001b[0m",
      "\u001b[1;31mNameError\u001b[0m                                 Traceback (most recent call last)",
      "\u001b[1;32m<ipython-input-28-38d87953931a>\u001b[0m in \u001b[0;36m<module>\u001b[1;34m()\u001b[0m\n\u001b[1;32m----> 1\u001b[1;33m \u001b[0mclf\u001b[0m\u001b[1;33m.\u001b[0m\u001b[0mpredict\u001b[0m\u001b[1;33m(\u001b[0m\u001b[0mX\u001b[0m\u001b[1;33m.\u001b[0m\u001b[0miloc\u001b[0m\u001b[1;33m[\u001b[0m\u001b[1;36m0\u001b[0m\u001b[1;33m]\u001b[0m\u001b[1;33m)\u001b[0m\u001b[1;33m\u001b[0m\u001b[0m\n\u001b[0m",
      "\u001b[1;31mNameError\u001b[0m: name 'X' is not defined"
     ]
    }
   ],
   "source": [
    "clf.predict(X.iloc[0])"
   ]
  },
  {
   "cell_type": "code",
   "execution_count": 27,
   "metadata": {},
   "outputs": [
    {
     "name": "stdout",
     "output_type": "stream",
     "text": [
      "['Mustache_']\n"
     ]
    },
    {
     "name": "stderr",
     "output_type": "stream",
     "text": [
      "C:\\Coursera\\Anaconda2\\lib\\site-packages\\sklearn\\utils\\validation.py:395: DeprecationWarning: Passing 1d arrays as data is deprecated in 0.17 and will raise ValueError in 0.19. Reshape your data either using X.reshape(-1, 1) if your data has a single feature or X.reshape(1, -1) if it contains a single sample.\n",
      "  DeprecationWarning)\n"
     ]
    },
    {
     "data": {
      "image/png": "[encoded data removed]",
      "text/plain": [
       "<matplotlib.figure.Figure at 0x66dbe9b0>"
      ]
     },
     "metadata": {},
     "output_type": "display_data"
    }
   ],
   "source": [
    "import matplotlib.pyplot as plt\n",
    "import os\n",
    "from PIL import Image\n",
    "dirname = '../real_images/'\n",
    "im_file ='Picture 9.jpg'\n",
    "\n",
    "image = Image.open(os.path.join(dirname, im_file))\n",
    "\n",
    "image = image.convert('L')\n",
    "image = image.resize((128, 128),Image.BICUBIC)\n",
    "image.load()\n",
    "image = np.array(image)\n",
    "image = image.reshape(16384)\n",
    "\n",
    "im = image\n",
    "print(clf.predict(im))\n",
    "\n",
    "image =im.reshape(128,128)\n",
    "plt.imshow(image, cmap='gray')\n",
    "plt.show()   "
   ]
  },
  {
   "cell_type": "code",
   "execution_count": null,
   "metadata": {
    "collapsed": true
   },
   "outputs": [],
   "source": []
  }
 ],
 "metadata": {
  "anaconda-cloud": {},
  "kernelspec": {
   "display_name": "Python 3",
   "language": "python",
   "name": "python3"
  },
  "language_info": {
   "codemirror_mode": {
    "name": "ipython",
    "version": 3
   },
   "file_extension": ".py",
   "mimetype": "text/x-python",
   "name": "python",
   "nbconvert_exporter": "python",
   "pygments_lexer": "ipython3",
   "version": "3.6.0"
  }
 },
 "nbformat": 4,
 "nbformat_minor": 2
}
