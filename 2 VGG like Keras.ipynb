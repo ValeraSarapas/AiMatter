{
 "cells": [
  {
   "cell_type": "code",
   "execution_count": 1,
   "metadata": {},
   "outputs": [
    {
     "name": "stderr",
     "output_type": "stream",
     "text": [
      "Using Theano backend.\n"
     ]
    }
   ],
   "source": [
    "# This Python 3 environment comes with many helpful analytics libraries installed\n",
    "# It is defined by the kaggle/python docker image: https://github.com/kaggle/docker-python\n",
    "# For example, here's several helpful packages to load in \n",
    "\n",
    "import numpy as np # linear algebra\n",
    "import pandas as pd # data processing, CSV file I/O (e.g. pd.read_csv)\n",
    "\n",
    "import matplotlib.pyplot as plt\n",
    "%matplotlib inline\n",
    "\n",
    "from keras.models import Sequential\n",
    "from keras.layers import Dense , Dropout , Lambda, Flatten\n",
    "from keras.optimizers import Adam ,RMSprop\n",
    "from sklearn.model_selection import train_test_split\n",
    "\n",
    "# Input data files are available in the \"../input/\" directory.\n",
    "# For example, running this (by clicking run or pressing Shift+Enter) will list the files in the input directory\n",
    "\n",
    "#from subprocess import check_output\n",
    "#print(check_output([\"ls\", \"../input\"]).decode(\"utf8\"))\n",
    "\n",
    "# Any results you write to the current directory are saved as output."
   ]
  },
  {
   "cell_type": "code",
   "execution_count": 2,
   "metadata": {},
   "outputs": [
    {
     "name": "stdout",
     "output_type": "stream",
     "text": [
      "(10000, 16390)\n"
     ]
    },
    {
     "data": {
      "text/html": [
       "<div>\n",
       "<table border=\"1\" class=\"dataframe\">\n",
       "  <thead>\n",
       "    <tr style=\"text-align: right;\">\n",
       "      <th></th>\n",
       "      <th>Image</th>\n",
       "      <th>Eyeglasses</th>\n",
       "      <th>Mustache</th>\n",
       "      <th>Smiling</th>\n",
       "      <th>Wearing_Hat</th>\n",
       "      <th>Type</th>\n",
       "      <th>0</th>\n",
       "      <th>1</th>\n",
       "      <th>2</th>\n",
       "      <th>3</th>\n",
       "      <th>...</th>\n",
       "      <th>16374</th>\n",
       "      <th>16375</th>\n",
       "      <th>16376</th>\n",
       "      <th>16377</th>\n",
       "      <th>16378</th>\n",
       "      <th>16379</th>\n",
       "      <th>16380</th>\n",
       "      <th>16381</th>\n",
       "      <th>16382</th>\n",
       "      <th>16383</th>\n",
       "    </tr>\n",
       "  </thead>\n",
       "  <tbody>\n",
       "    <tr>\n",
       "      <th>0</th>\n",
       "      <td>000016.jpg</td>\n",
       "      <td>-1</td>\n",
       "      <td>-1</td>\n",
       "      <td>1</td>\n",
       "      <td>-1</td>\n",
       "      <td>0</td>\n",
       "      <td>23</td>\n",
       "      <td>23</td>\n",
       "      <td>23</td>\n",
       "      <td>23</td>\n",
       "      <td>...</td>\n",
       "      <td>29</td>\n",
       "      <td>30</td>\n",
       "      <td>30</td>\n",
       "      <td>30</td>\n",
       "      <td>31</td>\n",
       "      <td>32</td>\n",
       "      <td>33</td>\n",
       "      <td>34</td>\n",
       "      <td>33</td>\n",
       "      <td>32</td>\n",
       "    </tr>\n",
       "    <tr>\n",
       "      <th>1</th>\n",
       "      <td>000025.jpg</td>\n",
       "      <td>-1</td>\n",
       "      <td>-1</td>\n",
       "      <td>-1</td>\n",
       "      <td>-1</td>\n",
       "      <td>0</td>\n",
       "      <td>85</td>\n",
       "      <td>89</td>\n",
       "      <td>88</td>\n",
       "      <td>81</td>\n",
       "      <td>...</td>\n",
       "      <td>79</td>\n",
       "      <td>75</td>\n",
       "      <td>77</td>\n",
       "      <td>71</td>\n",
       "      <td>72</td>\n",
       "      <td>75</td>\n",
       "      <td>77</td>\n",
       "      <td>82</td>\n",
       "      <td>81</td>\n",
       "      <td>75</td>\n",
       "    </tr>\n",
       "    <tr>\n",
       "      <th>2</th>\n",
       "      <td>000026.jpg</td>\n",
       "      <td>-1</td>\n",
       "      <td>-1</td>\n",
       "      <td>-1</td>\n",
       "      <td>-1</td>\n",
       "      <td>0</td>\n",
       "      <td>172</td>\n",
       "      <td>169</td>\n",
       "      <td>175</td>\n",
       "      <td>184</td>\n",
       "      <td>...</td>\n",
       "      <td>74</td>\n",
       "      <td>96</td>\n",
       "      <td>96</td>\n",
       "      <td>99</td>\n",
       "      <td>112</td>\n",
       "      <td>129</td>\n",
       "      <td>122</td>\n",
       "      <td>87</td>\n",
       "      <td>61</td>\n",
       "      <td>62</td>\n",
       "    </tr>\n",
       "    <tr>\n",
       "      <th>3</th>\n",
       "      <td>000028.jpg</td>\n",
       "      <td>-1</td>\n",
       "      <td>-1</td>\n",
       "      <td>1</td>\n",
       "      <td>-1</td>\n",
       "      <td>0</td>\n",
       "      <td>233</td>\n",
       "      <td>231</td>\n",
       "      <td>231</td>\n",
       "      <td>234</td>\n",
       "      <td>...</td>\n",
       "      <td>178</td>\n",
       "      <td>184</td>\n",
       "      <td>187</td>\n",
       "      <td>186</td>\n",
       "      <td>191</td>\n",
       "      <td>191</td>\n",
       "      <td>193</td>\n",
       "      <td>191</td>\n",
       "      <td>187</td>\n",
       "      <td>187</td>\n",
       "    </tr>\n",
       "    <tr>\n",
       "      <th>4</th>\n",
       "      <td>000037.jpg</td>\n",
       "      <td>-1</td>\n",
       "      <td>-1</td>\n",
       "      <td>-1</td>\n",
       "      <td>1</td>\n",
       "      <td>0</td>\n",
       "      <td>77</td>\n",
       "      <td>76</td>\n",
       "      <td>74</td>\n",
       "      <td>73</td>\n",
       "      <td>...</td>\n",
       "      <td>57</td>\n",
       "      <td>57</td>\n",
       "      <td>57</td>\n",
       "      <td>57</td>\n",
       "      <td>57</td>\n",
       "      <td>57</td>\n",
       "      <td>57</td>\n",
       "      <td>57</td>\n",
       "      <td>57</td>\n",
       "      <td>57</td>\n",
       "    </tr>\n",
       "  </tbody>\n",
       "</table>\n",
       "<p>5 rows × 16390 columns</p>\n",
       "</div>"
      ],
      "text/plain": [
       "        Image  Eyeglasses  Mustache  Smiling  Wearing_Hat  Type    0    1  \\\n",
       "0  000016.jpg          -1        -1        1           -1     0   23   23   \n",
       "1  000025.jpg          -1        -1       -1           -1     0   85   89   \n",
       "2  000026.jpg          -1        -1       -1           -1     0  172  169   \n",
       "3  000028.jpg          -1        -1        1           -1     0  233  231   \n",
       "4  000037.jpg          -1        -1       -1            1     0   77   76   \n",
       "\n",
       "     2    3  ...    16374  16375  16376  16377  16378  16379  16380  16381  \\\n",
       "0   23   23  ...       29     30     30     30     31     32     33     34   \n",
       "1   88   81  ...       79     75     77     71     72     75     77     82   \n",
       "2  175  184  ...       74     96     96     99    112    129    122     87   \n",
       "3  231  234  ...      178    184    187    186    191    191    193    191   \n",
       "4   74   73  ...       57     57     57     57     57     57     57     57   \n",
       "\n",
       "   16382  16383  \n",
       "0     33     32  \n",
       "1     81     75  \n",
       "2     61     62  \n",
       "3    187    187  \n",
       "4     57     57  \n",
       "\n",
       "[5 rows x 16390 columns]"
      ]
     },
     "execution_count": 2,
     "metadata": {},
     "output_type": "execute_result"
    }
   ],
   "source": [
    "# create the training & test sets, skipping the header row with [1:]\n",
    "train = pd.read_csv('train_minimal_128.csv',header = 0, index_col=0)\n",
    "print(train.shape)\n",
    "train.head()"
   ]
  },
  {
   "cell_type": "code",
   "execution_count": 3,
   "metadata": {},
   "outputs": [
    {
     "name": "stdout",
     "output_type": "stream",
     "text": [
      "(2000, 16390)\n"
     ]
    },
    {
     "data": {
      "text/html": [
       "<div>\n",
       "<table border=\"1\" class=\"dataframe\">\n",
       "  <thead>\n",
       "    <tr style=\"text-align: right;\">\n",
       "      <th></th>\n",
       "      <th>Image</th>\n",
       "      <th>Eyeglasses</th>\n",
       "      <th>Mustache</th>\n",
       "      <th>Smiling</th>\n",
       "      <th>Wearing_Hat</th>\n",
       "      <th>Type</th>\n",
       "      <th>0</th>\n",
       "      <th>1</th>\n",
       "      <th>2</th>\n",
       "      <th>3</th>\n",
       "      <th>...</th>\n",
       "      <th>16374</th>\n",
       "      <th>16375</th>\n",
       "      <th>16376</th>\n",
       "      <th>16377</th>\n",
       "      <th>16378</th>\n",
       "      <th>16379</th>\n",
       "      <th>16380</th>\n",
       "      <th>16381</th>\n",
       "      <th>16382</th>\n",
       "      <th>16383</th>\n",
       "    </tr>\n",
       "  </thead>\n",
       "  <tbody>\n",
       "    <tr>\n",
       "      <th>0</th>\n",
       "      <td>162783.jpg</td>\n",
       "      <td>-1</td>\n",
       "      <td>-1</td>\n",
       "      <td>-1</td>\n",
       "      <td>-1</td>\n",
       "      <td>1</td>\n",
       "      <td>206</td>\n",
       "      <td>206</td>\n",
       "      <td>206</td>\n",
       "      <td>206</td>\n",
       "      <td>...</td>\n",
       "      <td>214</td>\n",
       "      <td>215</td>\n",
       "      <td>216</td>\n",
       "      <td>215</td>\n",
       "      <td>215</td>\n",
       "      <td>214</td>\n",
       "      <td>213</td>\n",
       "      <td>213</td>\n",
       "      <td>213</td>\n",
       "      <td>213</td>\n",
       "    </tr>\n",
       "    <tr>\n",
       "      <th>1</th>\n",
       "      <td>162807.jpg</td>\n",
       "      <td>1</td>\n",
       "      <td>-1</td>\n",
       "      <td>-1</td>\n",
       "      <td>-1</td>\n",
       "      <td>1</td>\n",
       "      <td>100</td>\n",
       "      <td>101</td>\n",
       "      <td>93</td>\n",
       "      <td>80</td>\n",
       "      <td>...</td>\n",
       "      <td>33</td>\n",
       "      <td>28</td>\n",
       "      <td>31</td>\n",
       "      <td>33</td>\n",
       "      <td>30</td>\n",
       "      <td>30</td>\n",
       "      <td>37</td>\n",
       "      <td>38</td>\n",
       "      <td>34</td>\n",
       "      <td>33</td>\n",
       "    </tr>\n",
       "    <tr>\n",
       "      <th>2</th>\n",
       "      <td>162813.jpg</td>\n",
       "      <td>-1</td>\n",
       "      <td>-1</td>\n",
       "      <td>1</td>\n",
       "      <td>-1</td>\n",
       "      <td>1</td>\n",
       "      <td>58</td>\n",
       "      <td>58</td>\n",
       "      <td>56</td>\n",
       "      <td>57</td>\n",
       "      <td>...</td>\n",
       "      <td>41</td>\n",
       "      <td>40</td>\n",
       "      <td>40</td>\n",
       "      <td>40</td>\n",
       "      <td>41</td>\n",
       "      <td>42</td>\n",
       "      <td>43</td>\n",
       "      <td>43</td>\n",
       "      <td>43</td>\n",
       "      <td>43</td>\n",
       "    </tr>\n",
       "    <tr>\n",
       "      <th>3</th>\n",
       "      <td>162827.jpg</td>\n",
       "      <td>-1</td>\n",
       "      <td>-1</td>\n",
       "      <td>-1</td>\n",
       "      <td>-1</td>\n",
       "      <td>1</td>\n",
       "      <td>79</td>\n",
       "      <td>77</td>\n",
       "      <td>77</td>\n",
       "      <td>80</td>\n",
       "      <td>...</td>\n",
       "      <td>176</td>\n",
       "      <td>199</td>\n",
       "      <td>196</td>\n",
       "      <td>188</td>\n",
       "      <td>168</td>\n",
       "      <td>143</td>\n",
       "      <td>145</td>\n",
       "      <td>150</td>\n",
       "      <td>170</td>\n",
       "      <td>180</td>\n",
       "    </tr>\n",
       "    <tr>\n",
       "      <th>4</th>\n",
       "      <td>162844.jpg</td>\n",
       "      <td>-1</td>\n",
       "      <td>-1</td>\n",
       "      <td>-1</td>\n",
       "      <td>1</td>\n",
       "      <td>1</td>\n",
       "      <td>42</td>\n",
       "      <td>42</td>\n",
       "      <td>42</td>\n",
       "      <td>42</td>\n",
       "      <td>...</td>\n",
       "      <td>204</td>\n",
       "      <td>204</td>\n",
       "      <td>204</td>\n",
       "      <td>204</td>\n",
       "      <td>204</td>\n",
       "      <td>205</td>\n",
       "      <td>206</td>\n",
       "      <td>206</td>\n",
       "      <td>206</td>\n",
       "      <td>206</td>\n",
       "    </tr>\n",
       "  </tbody>\n",
       "</table>\n",
       "<p>5 rows × 16390 columns</p>\n",
       "</div>"
      ],
      "text/plain": [
       "        Image  Eyeglasses  Mustache  Smiling  Wearing_Hat  Type    0    1  \\\n",
       "0  162783.jpg          -1        -1       -1           -1     1  206  206   \n",
       "1  162807.jpg           1        -1       -1           -1     1  100  101   \n",
       "2  162813.jpg          -1        -1        1           -1     1   58   58   \n",
       "3  162827.jpg          -1        -1       -1           -1     1   79   77   \n",
       "4  162844.jpg          -1        -1       -1            1     1   42   42   \n",
       "\n",
       "     2    3  ...    16374  16375  16376  16377  16378  16379  16380  16381  \\\n",
       "0  206  206  ...      214    215    216    215    215    214    213    213   \n",
       "1   93   80  ...       33     28     31     33     30     30     37     38   \n",
       "2   56   57  ...       41     40     40     40     41     42     43     43   \n",
       "3   77   80  ...      176    199    196    188    168    143    145    150   \n",
       "4   42   42  ...      204    204    204    204    204    205    206    206   \n",
       "\n",
       "   16382  16383  \n",
       "0    213    213  \n",
       "1     34     33  \n",
       "2     43     43  \n",
       "3    170    180  \n",
       "4    206    206  \n",
       "\n",
       "[5 rows x 16390 columns]"
      ]
     },
     "execution_count": 3,
     "metadata": {},
     "output_type": "execute_result"
    }
   ],
   "source": [
    "test= pd.read_csv('verify_minimal_128.csv',header = 0, index_col=0)\n",
    "print(test.shape)\n",
    "test.head()"
   ]
  },
  {
   "cell_type": "code",
   "execution_count": 4,
   "metadata": {},
   "outputs": [
    {
     "name": "stdout",
     "output_type": "stream",
     "text": [
      "4    2000\n",
      "3    2000\n",
      "2    2000\n",
      "1    2000\n",
      "0    2000\n",
      "dtype: int64\n"
     ]
    }
   ],
   "source": [
    "import utils\n",
    "X_train = (train.ix[:,6:].values).astype('float32') # all pixel values\n",
    "#X_train = train.drop(['Image','Eyeglasses','Mustache','Smiling','Wearing_Hat','Type'], axis=1).astype('float32')\n",
    "\n",
    "Y_train = train[['Eyeglasses','Mustache','Smiling','Wearing_Hat']]\n",
    "Y_train = Y_train.apply(utils.create_digits, axis = 1)\n",
    "print(Y_train.value_counts())\n",
    "\n",
    "y_train = Y_train.values.astype('int32') # only labels i.e targets digits\n",
    "X_test = test.ix[:,6:].values.astype('float32')\n",
    "#X_test = test.drop(['Image','Eyeglasses','Mustache','Smiling','Wearing_Hat','Type'], axis=1).astype('float32')"
   ]
  },
  {
   "cell_type": "code",
   "execution_count": 5,
   "metadata": {
    "collapsed": true
   },
   "outputs": [],
   "source": [
    "#X_train.shape\n",
    "# pre-processing: divide by max and substract mean\n",
    "scale = np.max(X_train)\n",
    "X_train /= scale\n",
    "X_test /= scale"
   ]
  },
  {
   "cell_type": "code",
   "execution_count": 6,
   "metadata": {},
   "outputs": [
    {
     "data": {
      "image/png": "[encoded data removed]",
      "text/plain": [
       "<matplotlib.figure.Figure at 0x9d8e09e8>"
      ]
     },
     "metadata": {},
     "output_type": "display_data"
    }
   ],
   "source": [
    "#Convert train datset to (num_images, img_rows, img_cols) format \n",
    "X_train = X_train.reshape(X_train.shape[0], 128, 128)\n",
    "\n",
    "for i in range(6, 9):\n",
    "    plt.subplot(330 + (i+1))\n",
    "    plt.imshow(X_train[i], cmap=plt.get_cmap('gray'))\n",
    "    plt.title(y_train[i]);"
   ]
  },
  {
   "cell_type": "code",
   "execution_count": 7,
   "metadata": {},
   "outputs": [
    {
     "data": {
      "text/plain": [
       "(10000, 128, 128, 1)"
      ]
     },
     "execution_count": 7,
     "metadata": {},
     "output_type": "execute_result"
    }
   ],
   "source": [
    "#expand 1 more dimention as 1 for colour channel gray\n",
    "X_train = X_train.reshape(X_train.shape[0], 128, 128,1)\n",
    "X_train.shape"
   ]
  },
  {
   "cell_type": "code",
   "execution_count": 8,
   "metadata": {},
   "outputs": [
    {
     "data": {
      "text/plain": [
       "(2000, 128, 128, 1)"
      ]
     },
     "execution_count": 8,
     "metadata": {},
     "output_type": "execute_result"
    }
   ],
   "source": [
    "X_test = X_test.reshape(X_test.shape[0], 128, 128,1)\n",
    "X_test.shape"
   ]
  },
  {
   "cell_type": "raw",
   "metadata": {
    "collapsed": true
   },
   "source": [
    "mean_px = X_train.mean().astype(np.float32)\n",
    "std_px = X_train.std().astype(np.float32)\n",
    "\n",
    "def standardize(x): \n",
    "    return (x-mean_px)/std_px"
   ]
  },
  {
   "cell_type": "code",
   "execution_count": 9,
   "metadata": {},
   "outputs": [
    {
     "data": {
      "text/plain": [
       "5"
      ]
     },
     "execution_count": 9,
     "metadata": {},
     "output_type": "execute_result"
    }
   ],
   "source": [
    "from keras.utils.np_utils import to_categorical\n",
    "y_train= to_categorical(y_train)\n",
    "num_classes = y_train.shape[1]\n",
    "num_classes"
   ]
  },
  {
   "cell_type": "code",
   "execution_count": 10,
   "metadata": {},
   "outputs": [
    {
     "data": {
      "text/plain": [
       "5"
      ]
     },
     "execution_count": 10,
     "metadata": {},
     "output_type": "execute_result"
    }
   ],
   "source": [
    "Y_test = test[['Eyeglasses','Mustache','Smiling','Wearing_Hat']]\n",
    "Y_test = Y_test.apply(utils.create_digits, axis = 1)\n",
    "y_test= to_categorical(Y_test)\n",
    "num_classes = y_test.shape[1]\n",
    "num_classes"
   ]
  },
  {
   "cell_type": "code",
   "execution_count": 11,
   "metadata": {},
   "outputs": [
    {
     "data": {
      "image/png": "[encoded data removed]",
      "text/plain": [
       "<matplotlib.figure.Figure at 0x52906128>"
      ]
     },
     "metadata": {},
     "output_type": "display_data"
    }
   ],
   "source": [
    "plt.title(y_train[9])\n",
    "plt.plot(y_train[9])\n",
    "plt.xticks(range(10));"
   ]
  },
  {
   "cell_type": "code",
   "execution_count": 12,
   "metadata": {
    "collapsed": true
   },
   "outputs": [],
   "source": [
    "# fix random seed for reproducibility\n",
    "seed = 43\n",
    "np.random.seed(seed)"
   ]
  },
  {
   "cell_type": "code",
   "execution_count": 13,
   "metadata": {
    "collapsed": true
   },
   "outputs": [],
   "source": [
    "import numpy as np\n",
    "import keras\n",
    "from keras.models import Sequential\n",
    "from keras.layers import Dense, Dropout, Flatten\n",
    "from keras.layers import Conv2D, MaxPooling2D\n",
    "from keras.optimizers import SGD\n",
    "\n",
    "# Generate dummy data\n",
    "#x_train = np.random.random((100, 100, 100, 3))\n",
    "#y_train = keras.utils.to_categorical(np.random.randint(10, size=(100, 1)), num_classes=10)\n",
    "#x_test = np.random.random((20, 100, 100, 3))\n",
    "#y_test = keras.utils.to_categorical(np.random.randint(10, size=(20, 1)), num_classes=10)\n",
    "\n",
    "model = Sequential()\n",
    "# input: 100x100 images with 3 channels -> (100, 100, 3) tensors.\n",
    "# this applies 32 convolution filters of size 3x3 each.\n",
    "model.add(Conv2D(32, (3, 3), activation='relu', input_shape=(128, 128, 1)))\n",
    "model.add(Conv2D(32, (3, 3), activation='relu'))\n",
    "model.add(MaxPooling2D(pool_size=(2, 2)))\n",
    "model.add(Dropout(0.25))\n",
    "\n",
    "model.add(Conv2D(64, (3, 3), activation='relu'))\n",
    "model.add(Conv2D(64, (3, 3), activation='relu'))\n",
    "model.add(MaxPooling2D(pool_size=(2, 2)))\n",
    "model.add(Dropout(0.25))\n",
    "\n",
    "model.add(Flatten())\n",
    "model.add(Dense(256, activation='relu'))\n",
    "model.add(Dropout(0.5))\n",
    "model.add(Dense(5, activation='softmax'))\n",
    "\n",
    "sgd = SGD(lr=0.01, decay=1e-6, momentum=0.9, nesterov=True)\n",
    "model.compile(loss='categorical_crossentropy', optimizer=sgd, metrics=['accuracy'])"
   ]
  },
  {
   "cell_type": "code",
   "execution_count": 14,
   "metadata": {},
   "outputs": [
    {
     "name": "stdout",
     "output_type": "stream",
     "text": [
      "Train on 10000 samples, validate on 2000 samples\n",
      "Epoch 1/10\n",
      "10000/10000 [==============================] - 1644s - loss: 1.3692 - acc: 0.4223 - val_loss: 1.0246 - val_acc: 0.6225\n",
      "Epoch 2/10\n",
      "10000/10000 [==============================] - 1639s - loss: 0.8115 - acc: 0.6983 - val_loss: 0.5861 - val_acc: 0.7855\n",
      "Epoch 3/10\n",
      "10000/10000 [==============================] - 1639s - loss: 0.5441 - acc: 0.8035 - val_loss: 0.4429 - val_acc: 0.8380\n",
      "Epoch 4/10\n",
      "10000/10000 [==============================] - 1641s - loss: 0.4522 - acc: 0.8376 - val_loss: 0.4130 - val_acc: 0.8485\n",
      "Epoch 5/10\n",
      "10000/10000 [==============================] - 1639s - loss: 0.3952 - acc: 0.8551 - val_loss: 0.4239 - val_acc: 0.8530\n",
      "Epoch 6/10\n",
      "10000/10000 [==============================] - 1627s - loss: 0.3458 - acc: 0.8762 - val_loss: 0.3823 - val_acc: 0.8615\n",
      "Epoch 7/10\n",
      "10000/10000 [==============================] - 1632s - loss: 0.2920 - acc: 0.8904 - val_loss: 0.4099 - val_acc: 0.8480\n",
      "Epoch 8/10\n",
      "10000/10000 [==============================] - 1638s - loss: 0.2503 - acc: 0.9104 - val_loss: 0.3846 - val_acc: 0.8650\n",
      "Epoch 9/10\n",
      "10000/10000 [==============================] - 1640s - loss: 0.2245 - acc: 0.9167 - val_loss: 0.4081 - val_acc: 0.8575\n",
      "Epoch 10/10\n",
      "10000/10000 [==============================] - 1632s - loss: 0.1832 - acc: 0.9298 - val_loss: 0.3794 - val_acc: 0.8605\n"
     ]
    }
   ],
   "source": [
    "#history=model.fit(X_train, y_train, batch_size=64, epochs=5, validation_data = (X_test,y_test), verbose=2)\n",
    "history = model.fit(X_train, y_train, batch_size=64, epochs=10,verbose=1, validation_data = (X_test,y_test))"
   ]
  },
  {
   "cell_type": "code",
   "execution_count": 15,
   "metadata": {},
   "outputs": [
    {
     "name": "stdout",
     "output_type": "stream",
     "text": [
      "Train on 10000 samples, validate on 2000 samples\n",
      "Epoch 1/10\n",
      "10000/10000 [==============================] - 1645s - loss: 0.1657 - acc: 0.9413 - val_loss: 0.4797 - val_acc: 0.8570\n",
      "Epoch 2/10\n",
      "10000/10000 [==============================] - 1639s - loss: 0.1490 - acc: 0.9447 - val_loss: 0.4809 - val_acc: 0.8570\n",
      "Epoch 3/10\n",
      "10000/10000 [==============================] - 1642s - loss: 0.1222 - acc: 0.9568 - val_loss: 0.5141 - val_acc: 0.8610\n",
      "Epoch 4/10\n",
      "10000/10000 [==============================] - 1643s - loss: 0.1118 - acc: 0.9578 - val_loss: 0.4923 - val_acc: 0.8565\n",
      "Epoch 5/10\n",
      "10000/10000 [==============================] - 1645s - loss: 0.0937 - acc: 0.9665 - val_loss: 0.5643 - val_acc: 0.8590\n",
      "Epoch 6/10\n",
      "10000/10000 [==============================] - 1648s - loss: 0.0895 - acc: 0.9676 - val_loss: 0.5605 - val_acc: 0.8620\n",
      "Epoch 7/10\n",
      "10000/10000 [==============================] - 1648s - loss: 0.0851 - acc: 0.9688 - val_loss: 0.5448 - val_acc: 0.8555\n",
      "Epoch 8/10\n",
      "10000/10000 [==============================] - 1649s - loss: 0.0626 - acc: 0.9775 - val_loss: 0.5856 - val_acc: 0.8700\n",
      "Epoch 9/10\n",
      "10000/10000 [==============================] - 1662s - loss: 0.0616 - acc: 0.9789 - val_loss: 0.5318 - val_acc: 0.8680\n",
      "Epoch 10/10\n",
      "10000/10000 [==============================] - 1679s - loss: 0.0583 - acc: 0.9790 - val_loss: 0.5403 - val_acc: 0.8685\n"
     ]
    }
   ],
   "source": [
    "history = model.fit(X_train, y_train, batch_size=64, epochs=10,verbose=1, validation_data = (X_test,y_test))"
   ]
  },
  {
   "cell_type": "code",
   "execution_count": 15,
   "metadata": {},
   "outputs": [
    {
     "name": "stdout",
     "output_type": "stream",
     "text": [
      "2000/2000 [==============================] - 110s   \n"
     ]
    },
    {
     "data": {
      "text/plain": [
       "[0.42393955874443057, 0.85299999999999998]"
      ]
     },
     "execution_count": 15,
     "metadata": {},
     "output_type": "execute_result"
    }
   ],
   "source": [
    "score = model.evaluate(X_test, y_test, batch_size=32)\n",
    "score"
   ]
  },
  {
   "cell_type": "raw",
   "metadata": {
    "collapsed": true
   },
   "source": [
    "from keras.preprocessing import image\n",
    "gen = image.ImageDataGenerator()"
   ]
  },
  {
   "cell_type": "raw",
   "metadata": {
    "collapsed": true
   },
   "source": [
    "from sklearn.model_selection import train_test_split\n",
    "X_val = X_test\n",
    "y_val = y_test\n",
    "#X_train, X_val, y_train, y_val = train_test_split(X_train, y_train, test_size=0.10, random_state=42)\n",
    "batches = gen.flow(X_train, y_train, batch_size=64)\n",
    "val_batches=gen.flow(X_val, y_val, batch_size=64)"
   ]
  },
  {
   "cell_type": "raw",
   "metadata": {},
   "source": [
    "history=model.fit_generator(batches, batches.n, nb_epoch=1, \n",
    "                    validation_data=val_batches, nb_val_samples=val_batches.n)"
   ]
  },
  {
   "cell_type": "code",
   "execution_count": 16,
   "metadata": {},
   "outputs": [
    {
     "data": {
      "text/plain": [
       "dict_keys(['val_loss', 'val_acc', 'loss', 'acc'])"
      ]
     },
     "execution_count": 16,
     "metadata": {},
     "output_type": "execute_result"
    }
   ],
   "source": [
    "history_dict = history.history\n",
    "history_dict.keys()"
   ]
  },
  {
   "cell_type": "code",
   "execution_count": 17,
   "metadata": {},
   "outputs": [
    {
     "data": {
      "image/png": "[encoded data removed]",
      "text/plain": [
       "<matplotlib.figure.Figure at 0x24bb8d68>"
      ]
     },
     "metadata": {},
     "output_type": "display_data"
    }
   ],
   "source": [
    "import matplotlib.pyplot as plt\n",
    "%matplotlib inline\n",
    "loss_values = history_dict['loss']\n",
    "val_loss_values = history_dict['val_loss']\n",
    "epochs = range(1, len(loss_values) + 1)\n",
    "\n",
    "# \"bo\" is for \"blue dot\"\n",
    "plt.plot(epochs, loss_values, 'bo')\n",
    "# b+ is for \"blue crosses\"\n",
    "plt.plot(epochs, val_loss_values, 'ro')\n",
    "plt.xlabel('Epochs')\n",
    "plt.ylabel('Loss')\n",
    "\n",
    "plt.show()"
   ]
  },
  {
   "cell_type": "code",
   "execution_count": 18,
   "metadata": {},
   "outputs": [
    {
     "data": {
      "image/png": "[encoded data removed]",
      "text/plain": [
       "<matplotlib.figure.Figure at 0x42c594e0>"
      ]
     },
     "metadata": {},
     "output_type": "display_data"
    }
   ],
   "source": [
    "plt.clf()   # clear figure\n",
    "acc_values = history_dict['acc']\n",
    "val_acc_values = history_dict['val_acc']\n",
    "\n",
    "plt.plot(epochs, acc_values, 'bo')\n",
    "plt.plot(epochs, val_acc_values, 'ro')\n",
    "plt.xlabel('Epochs')\n",
    "plt.ylabel('Accuracy')\n",
    "\n",
    "plt.show()"
   ]
  },
  {
   "cell_type": "code",
   "execution_count": 19,
   "metadata": {
    "collapsed": true
   },
   "outputs": [],
   "source": [
    "from keras.models import load_model\n",
    "model.save('my_vgg.h5')  # creates a HDF5 file 'my_model.h5'\n",
    "#del model  # deletes the existing model"
   ]
  },
  {
   "cell_type": "code",
   "execution_count": 20,
   "metadata": {},
   "outputs": [
    {
     "name": "stdout",
     "output_type": "stream",
     "text": [
      "_________________________________________________________________\n",
      "Layer (type)                 Output Shape              Param #   \n",
      "=================================================================\n",
      "conv2d_1 (Conv2D)            (None, 126, 126, 32)      320       \n",
      "_________________________________________________________________\n",
      "conv2d_2 (Conv2D)            (None, 124, 124, 32)      9248      \n",
      "_________________________________________________________________\n",
      "max_pooling2d_1 (MaxPooling2 (None, 62, 62, 32)        0         \n",
      "_________________________________________________________________\n",
      "dropout_1 (Dropout)          (None, 62, 62, 32)        0         \n",
      "_________________________________________________________________\n",
      "conv2d_3 (Conv2D)            (None, 60, 60, 64)        18496     \n",
      "_________________________________________________________________\n",
      "conv2d_4 (Conv2D)            (None, 58, 58, 64)        36928     \n",
      "_________________________________________________________________\n",
      "max_pooling2d_2 (MaxPooling2 (None, 29, 29, 64)        0         \n",
      "_________________________________________________________________\n",
      "dropout_2 (Dropout)          (None, 29, 29, 64)        0         \n",
      "_________________________________________________________________\n",
      "flatten_1 (Flatten)          (None, 53824)             0         \n",
      "_________________________________________________________________\n",
      "dense_1 (Dense)              (None, 256)               13779200  \n",
      "_________________________________________________________________\n",
      "dropout_3 (Dropout)          (None, 256)               0         \n",
      "_________________________________________________________________\n",
      "dense_2 (Dense)              (None, 5)                 1285      \n",
      "=================================================================\n",
      "Total params: 13,845,477.0\n",
      "Trainable params: 13,845,477.0\n",
      "Non-trainable params: 0.0\n",
      "_________________________________________________________________\n"
     ]
    }
   ],
   "source": [
    "model.summary()"
   ]
  },
  {
   "cell_type": "code",
   "execution_count": null,
   "metadata": {
    "collapsed": true
   },
   "outputs": [],
   "source": [
    "# returns a compiled model\n",
    "# identical to the previous one\n",
    "model = load_model('my_vgg.h5')"
   ]
  }
 ],
 "metadata": {
  "anaconda-cloud": {},
  "kernelspec": {
   "display_name": "Python 3",
   "language": "python",
   "name": "python3"
  },
  "language_info": {
   "codemirror_mode": {
    "name": "ipython",
    "version": 3
   },
   "file_extension": ".py",
   "mimetype": "text/x-python",
   "name": "python",
   "nbconvert_exporter": "python",
   "pygments_lexer": "ipython3",
   "version": "3.6.0"
  }
 },
 "nbformat": 4,
 "nbformat_minor": 2
}
