{
 "cells": [
  {
   "cell_type": "code",
   "execution_count": 1,
   "metadata": {},
   "outputs": [
    {
     "name": "stderr",
     "output_type": "stream",
     "text": [
      "Using Theano backend.\n"
     ]
    }
   ],
   "source": [
    "# This Python 3 environment comes with many helpful analytics libraries installed\n",
    "# It is defined by the kaggle/python docker image: https://github.com/kaggle/docker-python\n",
    "# For example, here's several helpful packages to load in \n",
    "\n",
    "import numpy as np # linear algebra\n",
    "import pandas as pd # data processing, CSV file I/O (e.g. pd.read_csv)\n",
    "\n",
    "import matplotlib.pyplot as plt\n",
    "%matplotlib inline\n",
    "\n",
    "from keras.models import Sequential\n",
    "from keras.layers import Dense , Dropout , Lambda, Flatten\n",
    "from keras.optimizers import Adam ,RMSprop\n",
    "from sklearn.model_selection import train_test_split\n",
    "\n",
    "# Input data files are available in the \"../input/\" directory.\n",
    "# For example, running this (by clicking run or pressing Shift+Enter) will list the files in the input directory\n",
    "\n",
    "#from subprocess import check_output\n",
    "#print(check_output([\"ls\", \"../input\"]).decode(\"utf8\"))\n",
    "\n",
    "# Any results you write to the current directory are saved as output."
   ]
  },
  {
   "cell_type": "code",
   "execution_count": 2,
   "metadata": {},
   "outputs": [
    {
     "data": {
      "text/plain": [
       "5"
      ]
     },
     "execution_count": 2,
     "metadata": {},
     "output_type": "execute_result"
    }
   ],
   "source": [
    "from keras.utils.np_utils import to_categorical\n",
    "y_train= np.load('y_train_minimal_128.npy')\n",
    "num_classes = y_train.shape[1]\n",
    "num_classes"
   ]
  },
  {
   "cell_type": "code",
   "execution_count": 3,
   "metadata": {},
   "outputs": [
    {
     "data": {
      "text/plain": [
       "5"
      ]
     },
     "execution_count": 3,
     "metadata": {},
     "output_type": "execute_result"
    }
   ],
   "source": [
    "y_test= np.load('y_test_minimal_128.npy')\n",
    "num_classes = y_test.shape[1]\n",
    "num_classes"
   ]
  },
  {
   "cell_type": "code",
   "execution_count": 4,
   "metadata": {},
   "outputs": [
    {
     "data": {
      "image/png": "[encoded data removed]",
      "text/plain": [
       "<matplotlib.figure.Figure at 0xde415c0>"
      ]
     },
     "metadata": {},
     "output_type": "display_data"
    }
   ],
   "source": [
    "plt.title(y_train[9])\n",
    "plt.plot(y_train[9])\n",
    "plt.xticks(range(5));"
   ]
  },
  {
   "cell_type": "code",
   "execution_count": 24,
   "metadata": {},
   "outputs": [],
   "source": [
    "X_train = np.load('x_train_minimal_128.npy')\n",
    "#X_train = X_train.reshape(X_train.shape[0], 128, 128)\n",
    "\n",
    "#for i in range(6, 9):\n",
    "#    plt.subplot(330 + (i+1))\n",
    "#    plt.imshow(X_train[i], cmap=plt.get_cmap('gray'))\n",
    "#    plt.title(y_train[i]);"
   ]
  },
  {
   "cell_type": "code",
   "execution_count": 25,
   "metadata": {},
   "outputs": [
    {
     "data": {
      "text/plain": [
       "(10000, 128, 128, 1)"
      ]
     },
     "execution_count": 25,
     "metadata": {},
     "output_type": "execute_result"
    }
   ],
   "source": [
    "#expand 1 more dimention as 1 for colour channel gray\n",
    "X_train.shape"
   ]
  },
  {
   "cell_type": "code",
   "execution_count": 26,
   "metadata": {},
   "outputs": [
    {
     "data": {
      "text/plain": [
       "(2000, 128, 128, 1)"
      ]
     },
     "execution_count": 26,
     "metadata": {},
     "output_type": "execute_result"
    }
   ],
   "source": [
    "X_test =  np.load('x_test_minimal_128.npy')\n",
    "#X_test = X_test.reshape(X_test.shape[0], 128, 128)\n",
    "X_test.shape"
   ]
  },
  {
   "cell_type": "code",
   "execution_count": 12,
   "metadata": {
    "collapsed": true
   },
   "outputs": [],
   "source": [
    "# fix random seed for reproducibility\n",
    "seed = 43\n",
    "np.random.seed(seed)"
   ]
  },
  {
   "cell_type": "code",
   "execution_count": 33,
   "metadata": {},
   "outputs": [],
   "source": [
    "import numpy as np\n",
    "import keras\n",
    "from keras.models import Sequential\n",
    "from keras.layers import Dense, Dropout, Flatten\n",
    "from keras.layers import Conv2D, MaxPooling2D\n",
    "from keras.optimizers import SGD\n",
    "\n",
    "model = Sequential()\n",
    "# input: 100x100 images with 3 channels -> (100, 100, 3) tensors.\n",
    "# this applies 32 convolution filters of size 3x3 each.\n",
    "model.add(Conv2D(20, (5, 5), activation='relu', input_shape=(128, 128, 1)))\n",
    "model.add(MaxPooling2D(pool_size=(2, 2)))\n",
    "#model.add(Dropout(0.25))\n",
    "\n",
    "model.add(Conv2D(40, (5, 5), activation='relu'))\n",
    "model.add(MaxPooling2D(pool_size=(2, 2)))\n",
    "#model.add(Dropout(0.25))\n",
    "\n",
    "model.add(Flatten())\n",
    "model.add(Dense(1000, activation='relu'))\n",
    "model.add(Dropout(0.5))\n",
    "model.add(Dense(50, activation='relu'))\n",
    "model.add(Dropout(0.5))\n",
    "model.add(Dense(5, activation='softmax'))\n",
    "\n",
    "sgd = SGD(lr=0.01, decay=1e-6, momentum=0.9, nesterov=True)\n",
    "model.compile(loss='categorical_crossentropy', optimizer=sgd, metrics=['accuracy'])"
   ]
  },
  {
   "cell_type": "code",
   "execution_count": 34,
   "metadata": {},
   "outputs": [
    {
     "name": "stdout",
     "output_type": "stream",
     "text": [
      "Train on 10000 samples, validate on 2000 samples\n",
      "Epoch 1/50\n",
      "10000/10000 [==============================] - 550s - loss: 1.4314 - acc: 0.3673 - val_loss: 0.8915 - val_acc: 0.6840\n",
      "Epoch 2/50\n",
      "10000/10000 [==============================] - 544s - loss: 0.8748 - acc: 0.6786 - val_loss: 0.6473 - val_acc: 0.7800\n",
      "Epoch 3/50\n",
      "10000/10000 [==============================] - 545s - loss: 0.6868 - acc: 0.7536 - val_loss: 0.5201 - val_acc: 0.8135\n",
      "Epoch 4/50\n",
      "10000/10000 [==============================] - 558s - loss: 0.5692 - acc: 0.8005 - val_loss: 0.4837 - val_acc: 0.8320\n",
      "Epoch 5/50\n",
      "10000/10000 [==============================] - 603s - loss: 0.4936 - acc: 0.8253 - val_loss: 0.4658 - val_acc: 0.8370\n",
      "Epoch 6/50\n",
      "10000/10000 [==============================] - 613s - loss: 0.4137 - acc: 0.8595 - val_loss: 0.4429 - val_acc: 0.8465\n",
      "Epoch 7/50\n",
      "10000/10000 [==============================] - 606s - loss: 0.3555 - acc: 0.8756 - val_loss: 0.4773 - val_acc: 0.8355\n",
      "Epoch 8/50\n",
      "10000/10000 [==============================] - 606s - loss: 0.3061 - acc: 0.8965 - val_loss: 0.4926 - val_acc: 0.8395\n",
      "Epoch 9/50\n",
      "10000/10000 [==============================] - 595s - loss: 0.2691 - acc: 0.9053 - val_loss: 0.4904 - val_acc: 0.8435\n",
      "Epoch 10/50\n",
      "10000/10000 [==============================] - 602s - loss: 0.2213 - acc: 0.9240 - val_loss: 0.5254 - val_acc: 0.8465\n",
      "Epoch 11/50\n",
      "10000/10000 [==============================] - 597s - loss: 0.1943 - acc: 0.9341 - val_loss: 0.4927 - val_acc: 0.8480\n",
      "Epoch 12/50\n",
      "10000/10000 [==============================] - 597s - loss: 0.1643 - acc: 0.9452 - val_loss: 0.5599 - val_acc: 0.8380\n",
      "Epoch 13/50\n",
      "10000/10000 [==============================] - 598s - loss: 0.1367 - acc: 0.9535 - val_loss: 0.6506 - val_acc: 0.8200\n",
      "Epoch 14/50\n",
      "10000/10000 [==============================] - 596s - loss: 0.1194 - acc: 0.9613 - val_loss: 0.6554 - val_acc: 0.8380\n",
      "Epoch 15/50\n",
      "10000/10000 [==============================] - 599s - loss: 0.1031 - acc: 0.9655 - val_loss: 0.6764 - val_acc: 0.8390\n",
      "Epoch 16/50\n",
      "10000/10000 [==============================] - 599s - loss: 0.0921 - acc: 0.9688 - val_loss: 0.7360 - val_acc: 0.8360\n",
      "Epoch 17/50\n",
      "10000/10000 [==============================] - 600s - loss: 0.0909 - acc: 0.9716 - val_loss: 0.7295 - val_acc: 0.8440\n",
      "Epoch 18/50\n",
      "10000/10000 [==============================] - 604s - loss: 0.0812 - acc: 0.9745 - val_loss: 0.6632 - val_acc: 0.8455\n",
      "Epoch 19/50\n",
      "10000/10000 [==============================] - 603s - loss: 0.0680 - acc: 0.9773 - val_loss: 0.7780 - val_acc: 0.8325\n",
      "Epoch 20/50\n",
      "10000/10000 [==============================] - 608s - loss: 0.0568 - acc: 0.9843 - val_loss: 0.8180 - val_acc: 0.8320\n",
      "Epoch 21/50\n",
      "10000/10000 [==============================] - 609s - loss: 0.0653 - acc: 0.9796 - val_loss: 0.7950 - val_acc: 0.8305\n",
      "Epoch 22/50\n",
      "10000/10000 [==============================] - 615s - loss: 0.0530 - acc: 0.9844 - val_loss: 0.8955 - val_acc: 0.8270\n",
      "Epoch 23/50\n",
      "10000/10000 [==============================] - 620s - loss: 0.0716 - acc: 0.9791 - val_loss: 0.8296 - val_acc: 0.8350\n",
      "Epoch 24/50\n",
      "10000/10000 [==============================] - 618s - loss: 0.0565 - acc: 0.9843 - val_loss: 0.8450 - val_acc: 0.8345\n",
      "Epoch 25/50\n",
      "10000/10000 [==============================] - 620s - loss: 0.0446 - acc: 0.9872 - val_loss: 0.8942 - val_acc: 0.8515\n",
      "Epoch 26/50\n",
      "10000/10000 [==============================] - 617s - loss: 0.0498 - acc: 0.9848 - val_loss: 0.9776 - val_acc: 0.8285\n",
      "Epoch 27/50\n",
      "10000/10000 [==============================] - 618s - loss: 0.0476 - acc: 0.9846 - val_loss: 0.9559 - val_acc: 0.8275\n",
      "Epoch 28/50\n",
      "10000/10000 [==============================] - 617s - loss: 0.0455 - acc: 0.9857 - val_loss: 0.8206 - val_acc: 0.8370\n",
      "Epoch 29/50\n",
      "10000/10000 [==============================] - 614s - loss: 0.0362 - acc: 0.9893 - val_loss: 0.9102 - val_acc: 0.8435\n",
      "Epoch 30/50\n",
      "10000/10000 [==============================] - 612s - loss: 0.0474 - acc: 0.9878 - val_loss: 0.9402 - val_acc: 0.8325\n",
      "Epoch 31/50\n",
      "10000/10000 [==============================] - 611s - loss: 0.0376 - acc: 0.9897 - val_loss: 0.9761 - val_acc: 0.8390\n",
      "Epoch 32/50\n",
      "10000/10000 [==============================] - 616s - loss: 0.0367 - acc: 0.9892 - val_loss: 0.8307 - val_acc: 0.8480\n",
      "Epoch 33/50\n",
      "10000/10000 [==============================] - 622s - loss: 0.0345 - acc: 0.9895 - val_loss: 1.0196 - val_acc: 0.8310\n",
      "Epoch 34/50\n",
      "10000/10000 [==============================] - 625s - loss: 0.0323 - acc: 0.9903 - val_loss: 0.9195 - val_acc: 0.8500\n",
      "Epoch 35/50\n",
      "10000/10000 [==============================] - 624s - loss: 0.0270 - acc: 0.9919 - val_loss: 0.9729 - val_acc: 0.8430\n",
      "Epoch 36/50\n",
      "10000/10000 [==============================] - 624s - loss: 0.0282 - acc: 0.9923 - val_loss: 0.9230 - val_acc: 0.8450\n",
      "Epoch 37/50\n",
      "10000/10000 [==============================] - 632s - loss: 0.0326 - acc: 0.9893 - val_loss: 0.9275 - val_acc: 0.8430\n",
      "Epoch 38/50\n",
      "10000/10000 [==============================] - 630s - loss: 0.0231 - acc: 0.9938 - val_loss: 0.9951 - val_acc: 0.8365\n",
      "Epoch 39/50\n",
      "10000/10000 [==============================] - 626s - loss: 0.0241 - acc: 0.9932 - val_loss: 0.9632 - val_acc: 0.8385\n",
      "Epoch 40/50\n",
      "10000/10000 [==============================] - 631s - loss: 0.0238 - acc: 0.9938 - val_loss: 0.9499 - val_acc: 0.8375\n",
      "Epoch 41/50\n",
      "10000/10000 [==============================] - 635s - loss: 0.0188 - acc: 0.9948 - val_loss: 1.0070 - val_acc: 0.8375\n",
      "Epoch 42/50\n",
      "10000/10000 [==============================] - 636s - loss: 0.0195 - acc: 0.9954 - val_loss: 1.0459 - val_acc: 0.8465\n",
      "Epoch 43/50\n",
      "10000/10000 [==============================] - 638s - loss: 0.0201 - acc: 0.9953 - val_loss: 1.1739 - val_acc: 0.8350\n",
      "Epoch 44/50\n",
      "10000/10000 [==============================] - 640s - loss: 0.0280 - acc: 0.9924 - val_loss: 1.1292 - val_acc: 0.8330\n",
      "Epoch 45/50\n",
      "10000/10000 [==============================] - 640s - loss: 0.0331 - acc: 0.9912 - val_loss: 1.0230 - val_acc: 0.8390\n",
      "Epoch 46/50\n",
      "10000/10000 [==============================] - 643s - loss: 0.0239 - acc: 0.9935 - val_loss: 1.0056 - val_acc: 0.8465\n",
      "Epoch 47/50\n",
      "10000/10000 [==============================] - 642s - loss: 0.0281 - acc: 0.9934 - val_loss: 0.9929 - val_acc: 0.8380\n",
      "Epoch 48/50\n",
      "10000/10000 [==============================] - 641s - loss: 0.0228 - acc: 0.9946 - val_loss: 1.0256 - val_acc: 0.8405\n",
      "Epoch 49/50\n",
      "10000/10000 [==============================] - 642s - loss: 0.0254 - acc: 0.9928 - val_loss: 0.9435 - val_acc: 0.8515\n",
      "Epoch 50/50\n",
      "10000/10000 [==============================] - 638s - loss: 0.0197 - acc: 0.9952 - val_loss: 1.0300 - val_acc: 0.8395\n"
     ]
    }
   ],
   "source": [
    "history = model.fit(X_train, y_train, batch_size=50, epochs=50,verbose=1, validation_data = (X_test,y_test))"
   ]
  },
  {
   "cell_type": "code",
   "execution_count": 35,
   "metadata": {},
   "outputs": [
    {
     "name": "stdout",
     "output_type": "stream",
     "text": [
      "2000/2000 [==============================] - 35s    \n"
     ]
    },
    {
     "data": {
      "text/plain": [
       "[1.0299901452064515, 0.83950000000000002]"
      ]
     },
     "execution_count": 35,
     "metadata": {},
     "output_type": "execute_result"
    }
   ],
   "source": [
    "score = model.evaluate(X_test, y_test, batch_size=32)\n",
    "score"
   ]
  },
  {
   "cell_type": "code",
   "execution_count": 36,
   "metadata": {},
   "outputs": [
    {
     "data": {
      "text/plain": [
       "dict_keys(['val_loss', 'val_acc', 'loss', 'acc'])"
      ]
     },
     "execution_count": 36,
     "metadata": {},
     "output_type": "execute_result"
    }
   ],
   "source": [
    "history_dict = history.history\n",
    "history_dict.keys()"
   ]
  },
  {
   "cell_type": "code",
   "execution_count": 37,
   "metadata": {},
   "outputs": [
    {
     "data": {
      "image/png": "[encoded data removed]",
      "text/plain": [
       "<matplotlib.figure.Figure at 0x11e02c88>"
      ]
     },
     "metadata": {},
     "output_type": "display_data"
    }
   ],
   "source": [
    "import matplotlib.pyplot as plt\n",
    "%matplotlib inline\n",
    "loss_values = history_dict['loss']\n",
    "val_loss_values = history_dict['val_loss']\n",
    "epochs = range(1, len(loss_values) + 1)\n",
    "\n",
    "# \"bo\" is for \"blue dot\"\n",
    "plt.plot(epochs, loss_values, 'bo')\n",
    "# b+ is for \"blue crosses\"\n",
    "plt.plot(epochs, val_loss_values, 'ro')\n",
    "plt.xlabel('Epochs')\n",
    "plt.ylabel('Loss')\n",
    "\n",
    "plt.show()"
   ]
  },
  {
   "cell_type": "code",
   "execution_count": 38,
   "metadata": {},
   "outputs": [
    {
     "data": {
      "image/png": "[encoded data removed]",
      "text/plain": [
       "<matplotlib.figure.Figure at 0x151ef358>"
      ]
     },
     "metadata": {},
     "output_type": "display_data"
    }
   ],
   "source": [
    "plt.clf()   # clear figure\n",
    "acc_values = history_dict['acc']\n",
    "val_acc_values = history_dict['val_acc']\n",
    "\n",
    "plt.plot(epochs, acc_values, 'bo')\n",
    "plt.plot(epochs, val_acc_values, 'ro')\n",
    "plt.xlabel('Epochs')\n",
    "plt.ylabel('Accuracy')\n",
    "\n",
    "plt.show()"
   ]
  },
  {
   "cell_type": "code",
   "execution_count": 41,
   "metadata": {},
   "outputs": [
    {
     "ename": "RuntimeError",
     "evalue": "Unable to create link (Name already exists)",
     "output_type": "error",
     "traceback": [
      "\u001b[1;31m---------------------------------------------------------------------------\u001b[0m",
      "\u001b[1;31mRuntimeError\u001b[0m                              Traceback (most recent call last)",
      "\u001b[1;32m<ipython-input-41-fe63884154dc>\u001b[0m in \u001b[0;36m<module>\u001b[1;34m()\u001b[0m\n\u001b[0;32m      1\u001b[0m \u001b[1;32mfrom\u001b[0m \u001b[0mkeras\u001b[0m\u001b[1;33m.\u001b[0m\u001b[0mmodels\u001b[0m \u001b[1;32mimport\u001b[0m \u001b[0mload_model\u001b[0m\u001b[1;33m\u001b[0m\u001b[0m\n\u001b[1;32m----> 2\u001b[1;33m \u001b[0mmodel\u001b[0m\u001b[1;33m.\u001b[0m\u001b[0msave\u001b[0m\u001b[1;33m(\u001b[0m\u001b[1;34m'nielsen.h5'\u001b[0m\u001b[1;33m)\u001b[0m  \u001b[1;31m# creates a HDF5 file 'my_model.h5'\u001b[0m\u001b[1;33m\u001b[0m\u001b[0m\n\u001b[0m\u001b[0;32m      3\u001b[0m \u001b[1;31m#del model  # deletes the existing model\u001b[0m\u001b[1;33m\u001b[0m\u001b[1;33m\u001b[0m\u001b[0m\n",
      "\u001b[1;32mC:\\ProgramData\\Anaconda3\\lib\\site-packages\\keras\\engine\\topology.py\u001b[0m in \u001b[0;36msave\u001b[1;34m(self, filepath, overwrite)\u001b[0m\n\u001b[0;32m   2427\u001b[0m         \"\"\"\n\u001b[0;32m   2428\u001b[0m         \u001b[1;32mfrom\u001b[0m \u001b[1;33m.\u001b[0m\u001b[1;33m.\u001b[0m\u001b[0mmodels\u001b[0m \u001b[1;32mimport\u001b[0m \u001b[0msave_model\u001b[0m\u001b[1;33m\u001b[0m\u001b[0m\n\u001b[1;32m-> 2429\u001b[1;33m         \u001b[0msave_model\u001b[0m\u001b[1;33m(\u001b[0m\u001b[0mself\u001b[0m\u001b[1;33m,\u001b[0m \u001b[0mfilepath\u001b[0m\u001b[1;33m,\u001b[0m \u001b[0moverwrite\u001b[0m\u001b[1;33m)\u001b[0m\u001b[1;33m\u001b[0m\u001b[0m\n\u001b[0m\u001b[0;32m   2430\u001b[0m \u001b[1;33m\u001b[0m\u001b[0m\n\u001b[0;32m   2431\u001b[0m     \u001b[1;32mdef\u001b[0m \u001b[0msave_weights\u001b[0m\u001b[1;33m(\u001b[0m\u001b[0mself\u001b[0m\u001b[1;33m,\u001b[0m \u001b[0mfilepath\u001b[0m\u001b[1;33m,\u001b[0m \u001b[0moverwrite\u001b[0m\u001b[1;33m=\u001b[0m\u001b[1;32mTrue\u001b[0m\u001b[1;33m)\u001b[0m\u001b[1;33m:\u001b[0m\u001b[1;33m\u001b[0m\u001b[0m\n",
      "\u001b[1;32mC:\\ProgramData\\Anaconda3\\lib\\site-packages\\keras\\models.py\u001b[0m in \u001b[0;36msave_model\u001b[1;34m(model, filepath, overwrite)\u001b[0m\n\u001b[0;32m    157\u001b[0m                         \u001b[0mname\u001b[0m\u001b[1;33m,\u001b[0m\u001b[1;33m\u001b[0m\u001b[0m\n\u001b[0;32m    158\u001b[0m                         \u001b[0mval\u001b[0m\u001b[1;33m.\u001b[0m\u001b[0mshape\u001b[0m\u001b[1;33m,\u001b[0m\u001b[1;33m\u001b[0m\u001b[0m\n\u001b[1;32m--> 159\u001b[1;33m                         dtype=val.dtype)\n\u001b[0m\u001b[0;32m    160\u001b[0m                     \u001b[1;32mif\u001b[0m \u001b[1;32mnot\u001b[0m \u001b[0mval\u001b[0m\u001b[1;33m.\u001b[0m\u001b[0mshape\u001b[0m\u001b[1;33m:\u001b[0m\u001b[1;33m\u001b[0m\u001b[0m\n\u001b[0;32m    161\u001b[0m                         \u001b[1;31m# scalar\u001b[0m\u001b[1;33m\u001b[0m\u001b[1;33m\u001b[0m\u001b[0m\n",
      "\u001b[1;32mC:\\ProgramData\\Anaconda3\\lib\\site-packages\\h5py\\_hl\\group.py\u001b[0m in \u001b[0;36mcreate_dataset\u001b[1;34m(self, name, shape, dtype, data, **kwds)\u001b[0m\n\u001b[0;32m    106\u001b[0m             \u001b[0mdset\u001b[0m \u001b[1;33m=\u001b[0m \u001b[0mdataset\u001b[0m\u001b[1;33m.\u001b[0m\u001b[0mDataset\u001b[0m\u001b[1;33m(\u001b[0m\u001b[0mdsid\u001b[0m\u001b[1;33m)\u001b[0m\u001b[1;33m\u001b[0m\u001b[0m\n\u001b[0;32m    107\u001b[0m             \u001b[1;32mif\u001b[0m \u001b[0mname\u001b[0m \u001b[1;32mis\u001b[0m \u001b[1;32mnot\u001b[0m \u001b[1;32mNone\u001b[0m\u001b[1;33m:\u001b[0m\u001b[1;33m\u001b[0m\u001b[0m\n\u001b[1;32m--> 108\u001b[1;33m                 \u001b[0mself\u001b[0m\u001b[1;33m[\u001b[0m\u001b[0mname\u001b[0m\u001b[1;33m]\u001b[0m \u001b[1;33m=\u001b[0m \u001b[0mdset\u001b[0m\u001b[1;33m\u001b[0m\u001b[0m\n\u001b[0m\u001b[0;32m    109\u001b[0m             \u001b[1;32mreturn\u001b[0m \u001b[0mdset\u001b[0m\u001b[1;33m\u001b[0m\u001b[0m\n\u001b[0;32m    110\u001b[0m \u001b[1;33m\u001b[0m\u001b[0m\n",
      "\u001b[1;32mh5py\\_objects.pyx\u001b[0m in \u001b[0;36mh5py._objects.with_phil.wrapper (C:\\Miniconda-x64\\conda-bld\\work\\h5py-2.6.0\\h5py\\_objects.c:2859)\u001b[1;34m()\u001b[0m\n",
      "\u001b[1;32mh5py\\_objects.pyx\u001b[0m in \u001b[0;36mh5py._objects.with_phil.wrapper (C:\\Miniconda-x64\\conda-bld\\work\\h5py-2.6.0\\h5py\\_objects.c:2817)\u001b[1;34m()\u001b[0m\n",
      "\u001b[1;32mC:\\ProgramData\\Anaconda3\\lib\\site-packages\\h5py\\_hl\\group.py\u001b[0m in \u001b[0;36m__setitem__\u001b[1;34m(self, name, obj)\u001b[0m\n\u001b[0;32m    275\u001b[0m \u001b[1;33m\u001b[0m\u001b[0m\n\u001b[0;32m    276\u001b[0m         \u001b[1;32mif\u001b[0m \u001b[0misinstance\u001b[0m\u001b[1;33m(\u001b[0m\u001b[0mobj\u001b[0m\u001b[1;33m,\u001b[0m \u001b[0mHLObject\u001b[0m\u001b[1;33m)\u001b[0m\u001b[1;33m:\u001b[0m\u001b[1;33m\u001b[0m\u001b[0m\n\u001b[1;32m--> 277\u001b[1;33m             \u001b[0mh5o\u001b[0m\u001b[1;33m.\u001b[0m\u001b[0mlink\u001b[0m\u001b[1;33m(\u001b[0m\u001b[0mobj\u001b[0m\u001b[1;33m.\u001b[0m\u001b[0mid\u001b[0m\u001b[1;33m,\u001b[0m \u001b[0mself\u001b[0m\u001b[1;33m.\u001b[0m\u001b[0mid\u001b[0m\u001b[1;33m,\u001b[0m \u001b[0mname\u001b[0m\u001b[1;33m,\u001b[0m \u001b[0mlcpl\u001b[0m\u001b[1;33m=\u001b[0m\u001b[0mlcpl\u001b[0m\u001b[1;33m,\u001b[0m \u001b[0mlapl\u001b[0m\u001b[1;33m=\u001b[0m\u001b[0mself\u001b[0m\u001b[1;33m.\u001b[0m\u001b[0m_lapl\u001b[0m\u001b[1;33m)\u001b[0m\u001b[1;33m\u001b[0m\u001b[0m\n\u001b[0m\u001b[0;32m    278\u001b[0m \u001b[1;33m\u001b[0m\u001b[0m\n\u001b[0;32m    279\u001b[0m         \u001b[1;32melif\u001b[0m \u001b[0misinstance\u001b[0m\u001b[1;33m(\u001b[0m\u001b[0mobj\u001b[0m\u001b[1;33m,\u001b[0m \u001b[0mSoftLink\u001b[0m\u001b[1;33m)\u001b[0m\u001b[1;33m:\u001b[0m\u001b[1;33m\u001b[0m\u001b[0m\n",
      "\u001b[1;32mh5py\\_objects.pyx\u001b[0m in \u001b[0;36mh5py._objects.with_phil.wrapper (C:\\Miniconda-x64\\conda-bld\\work\\h5py-2.6.0\\h5py\\_objects.c:2859)\u001b[1;34m()\u001b[0m\n",
      "\u001b[1;32mh5py\\_objects.pyx\u001b[0m in \u001b[0;36mh5py._objects.with_phil.wrapper (C:\\Miniconda-x64\\conda-bld\\work\\h5py-2.6.0\\h5py\\_objects.c:2817)\u001b[1;34m()\u001b[0m\n",
      "\u001b[1;32mh5py\\h5o.pyx\u001b[0m in \u001b[0;36mh5py.h5o.link (C:\\Miniconda-x64\\conda-bld\\work\\h5py-2.6.0\\h5py\\h5o.c:3780)\u001b[1;34m()\u001b[0m\n",
      "\u001b[1;31mRuntimeError\u001b[0m: Unable to create link (Name already exists)"
     ]
    }
   ],
   "source": [
    "from keras.models import load_model\n",
    "model.save('nielsen.h5')  # creates a HDF5 file 'my_model.h5'\n",
    "#del model  # deletes the existing model"
   ]
  },
  {
   "cell_type": "code",
   "execution_count": 40,
   "metadata": {},
   "outputs": [
    {
     "name": "stdout",
     "output_type": "stream",
     "text": [
      "_________________________________________________________________\n",
      "Layer (type)                 Output Shape              Param #   \n",
      "=================================================================\n",
      "conv2d_23 (Conv2D)           (None, 124, 124, 20)      520       \n",
      "_________________________________________________________________\n",
      "max_pooling2d_19 (MaxPooling (None, 62, 62, 20)        0         \n",
      "_________________________________________________________________\n",
      "conv2d_24 (Conv2D)           (None, 58, 58, 40)        20040     \n",
      "_________________________________________________________________\n",
      "max_pooling2d_20 (MaxPooling (None, 29, 29, 40)        0         \n",
      "_________________________________________________________________\n",
      "flatten_10 (Flatten)         (None, 33640)             0         \n",
      "_________________________________________________________________\n",
      "dense_18 (Dense)             (None, 1000)              33641000  \n",
      "_________________________________________________________________\n",
      "dropout_17 (Dropout)         (None, 1000)              0         \n",
      "_________________________________________________________________\n",
      "dense_19 (Dense)             (None, 50)                50050     \n",
      "_________________________________________________________________\n",
      "dropout_18 (Dropout)         (None, 50)                0         \n",
      "_________________________________________________________________\n",
      "dense_20 (Dense)             (None, 5)                 255       \n",
      "=================================================================\n",
      "Total params: 33,711,865.0\n",
      "Trainable params: 33,711,865.0\n",
      "Non-trainable params: 0.0\n",
      "_________________________________________________________________\n"
     ]
    }
   ],
   "source": [
    "model.summary()"
   ]
  },
  {
   "cell_type": "code",
   "execution_count": null,
   "metadata": {
    "collapsed": true
   },
   "outputs": [],
   "source": [
    "# returns a compiled model\n",
    "# identical to the previous one\n",
    "model = load_model('my_nielsen.h5')"
   ]
  },
  {
   "cell_type": "code",
   "execution_count": null,
   "metadata": {
    "collapsed": true
   },
   "outputs": [],
   "source": []
  }
 ],
 "metadata": {
  "anaconda-cloud": {},
  "kernelspec": {
   "display_name": "Python 3",
   "language": "python",
   "name": "python3"
  },
  "language_info": {
   "codemirror_mode": {
    "name": "ipython",
    "version": 3
   },
   "file_extension": ".py",
   "mimetype": "text/x-python",
   "name": "python",
   "nbconvert_exporter": "python",
   "pygments_lexer": "ipython3",
   "version": "3.6.0"
  }
 },
 "nbformat": 4,
 "nbformat_minor": 2
}
