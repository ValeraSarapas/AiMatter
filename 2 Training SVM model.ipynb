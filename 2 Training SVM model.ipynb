{
 "cells": [
  {
   "cell_type": "markdown",
   "metadata": {},
   "source": [
    "# Read training data file"
   ]
  },
  {
   "cell_type": "code",
   "execution_count": 1,
   "metadata": {
    "collapsed": true
   },
   "outputs": [],
   "source": [
    "import numpy as np # linear algebra\n",
    "import pandas as pd # data processing, CSV file I/O (e.g. pd.read_csv)\n",
    "import time\n",
    "import utils\n",
    "from sklearn import svm"
   ]
  },
  {
   "cell_type": "raw",
   "metadata": {},
   "source": [
    "# read training data and test data\n",
    "data_train = pd.read_csv('train_conv_64.csv',header = 0, index_col=0)\n",
    "data_train.head()"
   ]
  },
  {
   "cell_type": "raw",
   "metadata": {},
   "source": [
    "X = data_train.drop(['Image','Eyeglasses','Mustache','Smiling','Wearing_Hat','Type'], axis=1)\n",
    "\n",
    "Y = data_train[['Eyeglasses','Mustache','Smiling','Wearing_Hat']]"
   ]
  },
  {
   "cell_type": "raw",
   "metadata": {},
   "source": [
    "X.to_csv('X_data_train')\n",
    "Y.to_csv('Y_data_train.csv')"
   ]
  },
  {
   "cell_type": "code",
   "execution_count": 45,
   "metadata": {
    "scrolled": true
   },
   "outputs": [
    {
     "data": {
      "text/html": [
       "<div>\n",
       "<table border=\"1\" class=\"dataframe\">\n",
       "  <thead>\n",
       "    <tr style=\"text-align: right;\">\n",
       "      <th></th>\n",
       "      <th>Image</th>\n",
       "      <th>Eyeglasses</th>\n",
       "      <th>Mustache</th>\n",
       "      <th>Smiling</th>\n",
       "      <th>Wearing_Hat</th>\n",
       "      <th>Type</th>\n",
       "      <th>0</th>\n",
       "      <th>1</th>\n",
       "      <th>2</th>\n",
       "      <th>3</th>\n",
       "      <th>...</th>\n",
       "      <th>16374</th>\n",
       "      <th>16375</th>\n",
       "      <th>16376</th>\n",
       "      <th>16377</th>\n",
       "      <th>16378</th>\n",
       "      <th>16379</th>\n",
       "      <th>16380</th>\n",
       "      <th>16381</th>\n",
       "      <th>16382</th>\n",
       "      <th>16383</th>\n",
       "    </tr>\n",
       "  </thead>\n",
       "  <tbody>\n",
       "    <tr>\n",
       "      <th>0</th>\n",
       "      <td>000016.jpg</td>\n",
       "      <td>-1</td>\n",
       "      <td>-1</td>\n",
       "      <td>1</td>\n",
       "      <td>-1</td>\n",
       "      <td>0</td>\n",
       "      <td>23</td>\n",
       "      <td>23</td>\n",
       "      <td>23</td>\n",
       "      <td>23</td>\n",
       "      <td>...</td>\n",
       "      <td>29</td>\n",
       "      <td>30</td>\n",
       "      <td>30</td>\n",
       "      <td>30</td>\n",
       "      <td>31</td>\n",
       "      <td>32</td>\n",
       "      <td>33</td>\n",
       "      <td>34</td>\n",
       "      <td>33</td>\n",
       "      <td>32</td>\n",
       "    </tr>\n",
       "    <tr>\n",
       "      <th>1</th>\n",
       "      <td>000025.jpg</td>\n",
       "      <td>-1</td>\n",
       "      <td>-1</td>\n",
       "      <td>-1</td>\n",
       "      <td>-1</td>\n",
       "      <td>0</td>\n",
       "      <td>85</td>\n",
       "      <td>89</td>\n",
       "      <td>88</td>\n",
       "      <td>81</td>\n",
       "      <td>...</td>\n",
       "      <td>79</td>\n",
       "      <td>75</td>\n",
       "      <td>77</td>\n",
       "      <td>71</td>\n",
       "      <td>72</td>\n",
       "      <td>75</td>\n",
       "      <td>77</td>\n",
       "      <td>82</td>\n",
       "      <td>81</td>\n",
       "      <td>75</td>\n",
       "    </tr>\n",
       "    <tr>\n",
       "      <th>2</th>\n",
       "      <td>000026.jpg</td>\n",
       "      <td>-1</td>\n",
       "      <td>-1</td>\n",
       "      <td>-1</td>\n",
       "      <td>-1</td>\n",
       "      <td>0</td>\n",
       "      <td>172</td>\n",
       "      <td>169</td>\n",
       "      <td>175</td>\n",
       "      <td>184</td>\n",
       "      <td>...</td>\n",
       "      <td>74</td>\n",
       "      <td>96</td>\n",
       "      <td>96</td>\n",
       "      <td>99</td>\n",
       "      <td>112</td>\n",
       "      <td>129</td>\n",
       "      <td>122</td>\n",
       "      <td>87</td>\n",
       "      <td>61</td>\n",
       "      <td>62</td>\n",
       "    </tr>\n",
       "    <tr>\n",
       "      <th>3</th>\n",
       "      <td>000028.jpg</td>\n",
       "      <td>-1</td>\n",
       "      <td>-1</td>\n",
       "      <td>1</td>\n",
       "      <td>-1</td>\n",
       "      <td>0</td>\n",
       "      <td>233</td>\n",
       "      <td>231</td>\n",
       "      <td>231</td>\n",
       "      <td>234</td>\n",
       "      <td>...</td>\n",
       "      <td>178</td>\n",
       "      <td>184</td>\n",
       "      <td>187</td>\n",
       "      <td>186</td>\n",
       "      <td>191</td>\n",
       "      <td>191</td>\n",
       "      <td>193</td>\n",
       "      <td>191</td>\n",
       "      <td>187</td>\n",
       "      <td>187</td>\n",
       "    </tr>\n",
       "    <tr>\n",
       "      <th>4</th>\n",
       "      <td>000037.jpg</td>\n",
       "      <td>-1</td>\n",
       "      <td>-1</td>\n",
       "      <td>-1</td>\n",
       "      <td>1</td>\n",
       "      <td>0</td>\n",
       "      <td>77</td>\n",
       "      <td>76</td>\n",
       "      <td>74</td>\n",
       "      <td>73</td>\n",
       "      <td>...</td>\n",
       "      <td>57</td>\n",
       "      <td>57</td>\n",
       "      <td>57</td>\n",
       "      <td>57</td>\n",
       "      <td>57</td>\n",
       "      <td>57</td>\n",
       "      <td>57</td>\n",
       "      <td>57</td>\n",
       "      <td>57</td>\n",
       "      <td>57</td>\n",
       "    </tr>\n",
       "  </tbody>\n",
       "</table>\n",
       "<p>5 rows × 16390 columns</p>\n",
       "</div>"
      ],
      "text/plain": [
       "        Image  Eyeglasses  Mustache  Smiling  Wearing_Hat  Type    0    1  \\\n",
       "0  000016.jpg          -1        -1        1           -1     0   23   23   \n",
       "1  000025.jpg          -1        -1       -1           -1     0   85   89   \n",
       "2  000026.jpg          -1        -1       -1           -1     0  172  169   \n",
       "3  000028.jpg          -1        -1        1           -1     0  233  231   \n",
       "4  000037.jpg          -1        -1       -1            1     0   77   76   \n",
       "\n",
       "     2    3  ...    16374  16375  16376  16377  16378  16379  16380  16381  \\\n",
       "0   23   23  ...       29     30     30     30     31     32     33     34   \n",
       "1   88   81  ...       79     75     77     71     72     75     77     82   \n",
       "2  175  184  ...       74     96     96     99    112    129    122     87   \n",
       "3  231  234  ...      178    184    187    186    191    191    193    191   \n",
       "4   74   73  ...       57     57     57     57     57     57     57     57   \n",
       "\n",
       "   16382  16383  \n",
       "0     33     32  \n",
       "1     81     75  \n",
       "2     61     62  \n",
       "3    187    187  \n",
       "4     57     57  \n",
       "\n",
       "[5 rows x 16390 columns]"
      ]
     },
     "execution_count": 45,
     "metadata": {},
     "output_type": "execute_result"
    }
   ],
   "source": [
    "# read training data and test data\n",
    "#X = pd.read_csv('X_data_train.csv',header = 0, index_col=0)\n",
    "data = pd.read_csv('train_minimal_128.csv',header = 0, index_col=0)\n",
    "data.head()"
   ]
  },
  {
   "cell_type": "code",
   "execution_count": 46,
   "metadata": {
    "collapsed": true
   },
   "outputs": [],
   "source": [
    "X = data.drop(['Image','Eyeglasses','Mustache','Smiling','Wearing_Hat','Type'], axis=1)\n",
    "\n",
    "Y = data[['Eyeglasses','Mustache','Smiling','Wearing_Hat']]"
   ]
  },
  {
   "cell_type": "raw",
   "metadata": {},
   "source": [
    "# read training data and test data\n",
    "#Y_data = pd.read_csv('Y_data_train.csv',header = 0, index_col=0)\n",
    "Y_data = pd.read_csv('Y_data_train_balanced.csv',header = 0, index_col=0)\n",
    "Y_data.head()"
   ]
  },
  {
   "cell_type": "code",
   "execution_count": 47,
   "metadata": {
    "collapsed": true
   },
   "outputs": [],
   "source": [
    "Y = Y.apply(utils.create_labels, axis = 1)"
   ]
  },
  {
   "cell_type": "code",
   "execution_count": 7,
   "metadata": {},
   "outputs": [
    {
     "data": {
      "text/plain": [
       "Smiling_       2000\n",
       "Wearing_Hat    2000\n",
       "Neutral        2000\n",
       "Eyeglasses_    2000\n",
       "Mustache_      2000\n",
       "dtype: int64"
      ]
     },
     "execution_count": 7,
     "metadata": {},
     "output_type": "execute_result"
    }
   ],
   "source": [
    "Y.value_counts()"
   ]
  },
  {
   "cell_type": "code",
   "execution_count": 8,
   "metadata": {},
   "outputs": [
    {
     "data": {
      "text/html": [
       "<div>\n",
       "<table border=\"1\" class=\"dataframe\">\n",
       "  <thead>\n",
       "    <tr style=\"text-align: right;\">\n",
       "      <th></th>\n",
       "      <th>0</th>\n",
       "      <th>1</th>\n",
       "      <th>2</th>\n",
       "      <th>3</th>\n",
       "      <th>4</th>\n",
       "      <th>5</th>\n",
       "      <th>6</th>\n",
       "      <th>7</th>\n",
       "      <th>8</th>\n",
       "      <th>9</th>\n",
       "      <th>...</th>\n",
       "      <th>16374</th>\n",
       "      <th>16375</th>\n",
       "      <th>16376</th>\n",
       "      <th>16377</th>\n",
       "      <th>16378</th>\n",
       "      <th>16379</th>\n",
       "      <th>16380</th>\n",
       "      <th>16381</th>\n",
       "      <th>16382</th>\n",
       "      <th>16383</th>\n",
       "    </tr>\n",
       "  </thead>\n",
       "  <tbody>\n",
       "    <tr>\n",
       "      <th>0</th>\n",
       "      <td>23</td>\n",
       "      <td>23</td>\n",
       "      <td>23</td>\n",
       "      <td>23</td>\n",
       "      <td>23</td>\n",
       "      <td>23</td>\n",
       "      <td>23</td>\n",
       "      <td>23</td>\n",
       "      <td>23</td>\n",
       "      <td>23</td>\n",
       "      <td>...</td>\n",
       "      <td>29</td>\n",
       "      <td>30</td>\n",
       "      <td>30</td>\n",
       "      <td>30</td>\n",
       "      <td>31</td>\n",
       "      <td>32</td>\n",
       "      <td>33</td>\n",
       "      <td>34</td>\n",
       "      <td>33</td>\n",
       "      <td>32</td>\n",
       "    </tr>\n",
       "    <tr>\n",
       "      <th>1</th>\n",
       "      <td>85</td>\n",
       "      <td>89</td>\n",
       "      <td>88</td>\n",
       "      <td>81</td>\n",
       "      <td>82</td>\n",
       "      <td>84</td>\n",
       "      <td>80</td>\n",
       "      <td>82</td>\n",
       "      <td>82</td>\n",
       "      <td>84</td>\n",
       "      <td>...</td>\n",
       "      <td>79</td>\n",
       "      <td>75</td>\n",
       "      <td>77</td>\n",
       "      <td>71</td>\n",
       "      <td>72</td>\n",
       "      <td>75</td>\n",
       "      <td>77</td>\n",
       "      <td>82</td>\n",
       "      <td>81</td>\n",
       "      <td>75</td>\n",
       "    </tr>\n",
       "    <tr>\n",
       "      <th>2</th>\n",
       "      <td>172</td>\n",
       "      <td>169</td>\n",
       "      <td>175</td>\n",
       "      <td>184</td>\n",
       "      <td>181</td>\n",
       "      <td>170</td>\n",
       "      <td>166</td>\n",
       "      <td>166</td>\n",
       "      <td>180</td>\n",
       "      <td>189</td>\n",
       "      <td>...</td>\n",
       "      <td>74</td>\n",
       "      <td>96</td>\n",
       "      <td>96</td>\n",
       "      <td>99</td>\n",
       "      <td>112</td>\n",
       "      <td>129</td>\n",
       "      <td>122</td>\n",
       "      <td>87</td>\n",
       "      <td>61</td>\n",
       "      <td>62</td>\n",
       "    </tr>\n",
       "    <tr>\n",
       "      <th>3</th>\n",
       "      <td>233</td>\n",
       "      <td>231</td>\n",
       "      <td>231</td>\n",
       "      <td>234</td>\n",
       "      <td>234</td>\n",
       "      <td>234</td>\n",
       "      <td>231</td>\n",
       "      <td>228</td>\n",
       "      <td>227</td>\n",
       "      <td>229</td>\n",
       "      <td>...</td>\n",
       "      <td>178</td>\n",
       "      <td>184</td>\n",
       "      <td>187</td>\n",
       "      <td>186</td>\n",
       "      <td>191</td>\n",
       "      <td>191</td>\n",
       "      <td>193</td>\n",
       "      <td>191</td>\n",
       "      <td>187</td>\n",
       "      <td>187</td>\n",
       "    </tr>\n",
       "    <tr>\n",
       "      <th>4</th>\n",
       "      <td>77</td>\n",
       "      <td>76</td>\n",
       "      <td>74</td>\n",
       "      <td>73</td>\n",
       "      <td>73</td>\n",
       "      <td>74</td>\n",
       "      <td>73</td>\n",
       "      <td>74</td>\n",
       "      <td>74</td>\n",
       "      <td>74</td>\n",
       "      <td>...</td>\n",
       "      <td>57</td>\n",
       "      <td>57</td>\n",
       "      <td>57</td>\n",
       "      <td>57</td>\n",
       "      <td>57</td>\n",
       "      <td>57</td>\n",
       "      <td>57</td>\n",
       "      <td>57</td>\n",
       "      <td>57</td>\n",
       "      <td>57</td>\n",
       "    </tr>\n",
       "  </tbody>\n",
       "</table>\n",
       "<p>5 rows × 16384 columns</p>\n",
       "</div>"
      ],
      "text/plain": [
       "     0    1    2    3    4    5    6    7    8    9  ...    16374  16375  \\\n",
       "0   23   23   23   23   23   23   23   23   23   23  ...       29     30   \n",
       "1   85   89   88   81   82   84   80   82   82   84  ...       79     75   \n",
       "2  172  169  175  184  181  170  166  166  180  189  ...       74     96   \n",
       "3  233  231  231  234  234  234  231  228  227  229  ...      178    184   \n",
       "4   77   76   74   73   73   74   73   74   74   74  ...       57     57   \n",
       "\n",
       "   16376  16377  16378  16379  16380  16381  16382  16383  \n",
       "0     30     30     31     32     33     34     33     32  \n",
       "1     77     71     72     75     77     82     81     75  \n",
       "2     96     99    112    129    122     87     61     62  \n",
       "3    187    186    191    191    193    191    187    187  \n",
       "4     57     57     57     57     57     57     57     57  \n",
       "\n",
       "[5 rows x 16384 columns]"
      ]
     },
     "execution_count": 8,
     "metadata": {},
     "output_type": "execute_result"
    }
   ],
   "source": [
    "X.head()"
   ]
  },
  {
   "cell_type": "markdown",
   "metadata": {},
   "source": [
    "# Train model"
   ]
  },
  {
   "cell_type": "code",
   "execution_count": 9,
   "metadata": {},
   "outputs": [
    {
     "data": {
      "text/plain": [
       "LinearSVC(C=1.0, class_weight=None, dual=True, fit_intercept=True,\n",
       "     intercept_scaling=1, loss='squared_hinge', max_iter=1000,\n",
       "     multi_class='ovr', penalty='l2', random_state=None, tol=0.0001,\n",
       "     verbose=0)"
      ]
     },
     "execution_count": 9,
     "metadata": {},
     "output_type": "execute_result"
    }
   ],
   "source": [
    "start_time = time.clock()\n",
    "# build the classifier\n",
    "#lin_clf = svm.LinearSVC(class_weight='auto') # If dataset is unbalanced\n",
    "lin_clf = svm.LinearSVC()\n",
    "lin_clf.fit(X,Y)"
   ]
  },
  {
   "cell_type": "code",
   "execution_count": 10,
   "metadata": {},
   "outputs": [
    {
     "name": "stdout",
     "output_type": "stream",
     "text": [
      "Training time: 0:17:22\n"
     ]
    }
   ],
   "source": [
    "time_sec = time.clock() - start_time\n",
    "m, s = divmod(time_sec, 60)\n",
    "h, m = divmod(m, 60)\n",
    "print (\"Training time: %d:%02d:%02d\" % (h, m, s))"
   ]
  },
  {
   "cell_type": "code",
   "execution_count": 11,
   "metadata": {
    "collapsed": true
   },
   "outputs": [],
   "source": [
    "import pickle\n",
    "# save the model to disk\n",
    "filename = 'svm_finalized_model.sav'\n",
    "pickle.dump(lin_clf, open(filename, 'wb'))"
   ]
  },
  {
   "cell_type": "code",
   "execution_count": 12,
   "metadata": {},
   "outputs": [
    {
     "data": {
      "text/plain": [
       "0.99880000000000002"
      ]
     },
     "execution_count": 12,
     "metadata": {},
     "output_type": "execute_result"
    }
   ],
   "source": [
    "# load the model from disk\n",
    "#lin_clf = pickle.load(open(filename, 'rb'))\n",
    "lin_clf.score(X, Y)"
   ]
  },
  {
   "cell_type": "raw",
   "metadata": {},
   "source": [
    "#lin_clf = svm.LinearSVC(class_weight='auto')\n",
    "0.7853474227437488"
   ]
  },
  {
   "cell_type": "code",
   "execution_count": 48,
   "metadata": {
    "collapsed": true
   },
   "outputs": [],
   "source": [
    "lin_clf_acc_train=lin_clf.score(X, Y)"
   ]
  },
  {
   "cell_type": "markdown",
   "metadata": {},
   "source": [
    "# Verify model"
   ]
  },
  {
   "cell_type": "code",
   "execution_count": 50,
   "metadata": {},
   "outputs": [
    {
     "data": {
      "text/html": [
       "<div>\n",
       "<table border=\"1\" class=\"dataframe\">\n",
       "  <thead>\n",
       "    <tr style=\"text-align: right;\">\n",
       "      <th></th>\n",
       "      <th>Image</th>\n",
       "      <th>Eyeglasses</th>\n",
       "      <th>Mustache</th>\n",
       "      <th>Smiling</th>\n",
       "      <th>Wearing_Hat</th>\n",
       "      <th>Type</th>\n",
       "      <th>0</th>\n",
       "      <th>1</th>\n",
       "      <th>2</th>\n",
       "      <th>3</th>\n",
       "      <th>...</th>\n",
       "      <th>16374</th>\n",
       "      <th>16375</th>\n",
       "      <th>16376</th>\n",
       "      <th>16377</th>\n",
       "      <th>16378</th>\n",
       "      <th>16379</th>\n",
       "      <th>16380</th>\n",
       "      <th>16381</th>\n",
       "      <th>16382</th>\n",
       "      <th>16383</th>\n",
       "    </tr>\n",
       "  </thead>\n",
       "  <tbody>\n",
       "    <tr>\n",
       "      <th>0</th>\n",
       "      <td>162783.jpg</td>\n",
       "      <td>-1</td>\n",
       "      <td>-1</td>\n",
       "      <td>-1</td>\n",
       "      <td>-1</td>\n",
       "      <td>1</td>\n",
       "      <td>206</td>\n",
       "      <td>206</td>\n",
       "      <td>206</td>\n",
       "      <td>206</td>\n",
       "      <td>...</td>\n",
       "      <td>214</td>\n",
       "      <td>215</td>\n",
       "      <td>216</td>\n",
       "      <td>215</td>\n",
       "      <td>215</td>\n",
       "      <td>214</td>\n",
       "      <td>213</td>\n",
       "      <td>213</td>\n",
       "      <td>213</td>\n",
       "      <td>213</td>\n",
       "    </tr>\n",
       "    <tr>\n",
       "      <th>1</th>\n",
       "      <td>162807.jpg</td>\n",
       "      <td>1</td>\n",
       "      <td>-1</td>\n",
       "      <td>-1</td>\n",
       "      <td>-1</td>\n",
       "      <td>1</td>\n",
       "      <td>100</td>\n",
       "      <td>101</td>\n",
       "      <td>93</td>\n",
       "      <td>80</td>\n",
       "      <td>...</td>\n",
       "      <td>33</td>\n",
       "      <td>28</td>\n",
       "      <td>31</td>\n",
       "      <td>33</td>\n",
       "      <td>30</td>\n",
       "      <td>30</td>\n",
       "      <td>37</td>\n",
       "      <td>38</td>\n",
       "      <td>34</td>\n",
       "      <td>33</td>\n",
       "    </tr>\n",
       "    <tr>\n",
       "      <th>2</th>\n",
       "      <td>162813.jpg</td>\n",
       "      <td>-1</td>\n",
       "      <td>-1</td>\n",
       "      <td>1</td>\n",
       "      <td>-1</td>\n",
       "      <td>1</td>\n",
       "      <td>58</td>\n",
       "      <td>58</td>\n",
       "      <td>56</td>\n",
       "      <td>57</td>\n",
       "      <td>...</td>\n",
       "      <td>41</td>\n",
       "      <td>40</td>\n",
       "      <td>40</td>\n",
       "      <td>40</td>\n",
       "      <td>41</td>\n",
       "      <td>42</td>\n",
       "      <td>43</td>\n",
       "      <td>43</td>\n",
       "      <td>43</td>\n",
       "      <td>43</td>\n",
       "    </tr>\n",
       "    <tr>\n",
       "      <th>3</th>\n",
       "      <td>162827.jpg</td>\n",
       "      <td>-1</td>\n",
       "      <td>-1</td>\n",
       "      <td>-1</td>\n",
       "      <td>-1</td>\n",
       "      <td>1</td>\n",
       "      <td>79</td>\n",
       "      <td>77</td>\n",
       "      <td>77</td>\n",
       "      <td>80</td>\n",
       "      <td>...</td>\n",
       "      <td>176</td>\n",
       "      <td>199</td>\n",
       "      <td>196</td>\n",
       "      <td>188</td>\n",
       "      <td>168</td>\n",
       "      <td>143</td>\n",
       "      <td>145</td>\n",
       "      <td>150</td>\n",
       "      <td>170</td>\n",
       "      <td>180</td>\n",
       "    </tr>\n",
       "    <tr>\n",
       "      <th>4</th>\n",
       "      <td>162844.jpg</td>\n",
       "      <td>-1</td>\n",
       "      <td>-1</td>\n",
       "      <td>-1</td>\n",
       "      <td>1</td>\n",
       "      <td>1</td>\n",
       "      <td>42</td>\n",
       "      <td>42</td>\n",
       "      <td>42</td>\n",
       "      <td>42</td>\n",
       "      <td>...</td>\n",
       "      <td>204</td>\n",
       "      <td>204</td>\n",
       "      <td>204</td>\n",
       "      <td>204</td>\n",
       "      <td>204</td>\n",
       "      <td>205</td>\n",
       "      <td>206</td>\n",
       "      <td>206</td>\n",
       "      <td>206</td>\n",
       "      <td>206</td>\n",
       "    </tr>\n",
       "  </tbody>\n",
       "</table>\n",
       "<p>5 rows × 16390 columns</p>\n",
       "</div>"
      ],
      "text/plain": [
       "        Image  Eyeglasses  Mustache  Smiling  Wearing_Hat  Type    0    1  \\\n",
       "0  162783.jpg          -1        -1       -1           -1     1  206  206   \n",
       "1  162807.jpg           1        -1       -1           -1     1  100  101   \n",
       "2  162813.jpg          -1        -1        1           -1     1   58   58   \n",
       "3  162827.jpg          -1        -1       -1           -1     1   79   77   \n",
       "4  162844.jpg          -1        -1       -1            1     1   42   42   \n",
       "\n",
       "     2    3  ...    16374  16375  16376  16377  16378  16379  16380  16381  \\\n",
       "0  206  206  ...      214    215    216    215    215    214    213    213   \n",
       "1   93   80  ...       33     28     31     33     30     30     37     38   \n",
       "2   56   57  ...       41     40     40     40     41     42     43     43   \n",
       "3   77   80  ...      176    199    196    188    168    143    145    150   \n",
       "4   42   42  ...      204    204    204    204    204    205    206    206   \n",
       "\n",
       "   16382  16383  \n",
       "0    213    213  \n",
       "1     34     33  \n",
       "2     43     43  \n",
       "3    170    180  \n",
       "4    206    206  \n",
       "\n",
       "[5 rows x 16390 columns]"
      ]
     },
     "execution_count": 50,
     "metadata": {},
     "output_type": "execute_result"
    }
   ],
   "source": [
    "# read training data and test data\n",
    "data_verify = pd.read_csv('verify_minimal_128.csv',header = 0, index_col=0)\n",
    "data_verify.head()"
   ]
  },
  {
   "cell_type": "code",
   "execution_count": 51,
   "metadata": {
    "collapsed": true
   },
   "outputs": [],
   "source": [
    "X_verify = data_verify.drop(['Image','Eyeglasses','Mustache','Smiling','Wearing_Hat','Type'], axis=1)\n",
    "Y_data = data_verify[['Eyeglasses','Mustache','Smiling','Wearing_Hat']]"
   ]
  },
  {
   "cell_type": "code",
   "execution_count": 52,
   "metadata": {},
   "outputs": [],
   "source": [
    "Y_verify = Y_data.apply(utils.create_labels, axis = 1)"
   ]
  },
  {
   "cell_type": "code",
   "execution_count": 18,
   "metadata": {},
   "outputs": [
    {
     "name": "stdout",
     "output_type": "stream",
     "text": [
      "Accuracy on verification set: 0.6565\n"
     ]
    }
   ],
   "source": [
    "#import pickle\n",
    "# load the model from disk\n",
    "#filename = 'svm_finalized_model.sav'\n",
    "#clf = pickle.load(open(filename, 'rb'))\n",
    "print (\"Accuracy on verification set:\", lin_clf.score(X_verify, Y_verify))"
   ]
  },
  {
   "cell_type": "code",
   "execution_count": 53,
   "metadata": {
    "collapsed": true
   },
   "outputs": [],
   "source": [
    "lin_clf_acc_verify=lin_clf.score(X_verify, Y_verify)"
   ]
  },
  {
   "cell_type": "raw",
   "metadata": {
    "collapsed": true
   },
   "source": [
    "Linear SVM score on the balanced train dataset:\n",
    "score: 0.27692256871035942\n",
    "accuracy on verification set: 0.0441435546383\n",
    "\n",
    "#lin_clf = svm.LinearSVC(class_weight='auto')\n",
    "Accuracy on verification set: 0.633160517441"
   ]
  },
  {
   "cell_type": "markdown",
   "metadata": {},
   "source": [
    "# Normalized data"
   ]
  },
  {
   "cell_type": "code",
   "execution_count": 55,
   "metadata": {},
   "outputs": [
    {
     "data": {
      "text/html": [
       "<div>\n",
       "<table border=\"1\" class=\"dataframe\">\n",
       "  <thead>\n",
       "    <tr style=\"text-align: right;\">\n",
       "      <th></th>\n",
       "      <th>0</th>\n",
       "      <th>1</th>\n",
       "      <th>2</th>\n",
       "      <th>3</th>\n",
       "      <th>4</th>\n",
       "      <th>5</th>\n",
       "      <th>6</th>\n",
       "      <th>7</th>\n",
       "      <th>8</th>\n",
       "      <th>9</th>\n",
       "      <th>...</th>\n",
       "      <th>16374</th>\n",
       "      <th>16375</th>\n",
       "      <th>16376</th>\n",
       "      <th>16377</th>\n",
       "      <th>16378</th>\n",
       "      <th>16379</th>\n",
       "      <th>16380</th>\n",
       "      <th>16381</th>\n",
       "      <th>16382</th>\n",
       "      <th>16383</th>\n",
       "    </tr>\n",
       "  </thead>\n",
       "  <tbody>\n",
       "    <tr>\n",
       "      <th>0</th>\n",
       "      <td>0.090196</td>\n",
       "      <td>0.090196</td>\n",
       "      <td>0.090196</td>\n",
       "      <td>0.090196</td>\n",
       "      <td>0.090196</td>\n",
       "      <td>0.090196</td>\n",
       "      <td>0.090196</td>\n",
       "      <td>0.090196</td>\n",
       "      <td>0.090196</td>\n",
       "      <td>0.090196</td>\n",
       "      <td>...</td>\n",
       "      <td>0.113725</td>\n",
       "      <td>0.117647</td>\n",
       "      <td>0.117647</td>\n",
       "      <td>0.117647</td>\n",
       "      <td>0.121569</td>\n",
       "      <td>0.125490</td>\n",
       "      <td>0.129412</td>\n",
       "      <td>0.133333</td>\n",
       "      <td>0.129412</td>\n",
       "      <td>0.125490</td>\n",
       "    </tr>\n",
       "    <tr>\n",
       "      <th>1</th>\n",
       "      <td>0.333333</td>\n",
       "      <td>0.349020</td>\n",
       "      <td>0.345098</td>\n",
       "      <td>0.317647</td>\n",
       "      <td>0.321569</td>\n",
       "      <td>0.329412</td>\n",
       "      <td>0.313725</td>\n",
       "      <td>0.321569</td>\n",
       "      <td>0.321569</td>\n",
       "      <td>0.329412</td>\n",
       "      <td>...</td>\n",
       "      <td>0.309804</td>\n",
       "      <td>0.294118</td>\n",
       "      <td>0.301961</td>\n",
       "      <td>0.278431</td>\n",
       "      <td>0.282353</td>\n",
       "      <td>0.294118</td>\n",
       "      <td>0.301961</td>\n",
       "      <td>0.321569</td>\n",
       "      <td>0.317647</td>\n",
       "      <td>0.294118</td>\n",
       "    </tr>\n",
       "    <tr>\n",
       "      <th>2</th>\n",
       "      <td>0.674510</td>\n",
       "      <td>0.662745</td>\n",
       "      <td>0.686275</td>\n",
       "      <td>0.721569</td>\n",
       "      <td>0.709804</td>\n",
       "      <td>0.666667</td>\n",
       "      <td>0.650980</td>\n",
       "      <td>0.650980</td>\n",
       "      <td>0.705882</td>\n",
       "      <td>0.741176</td>\n",
       "      <td>...</td>\n",
       "      <td>0.290196</td>\n",
       "      <td>0.376471</td>\n",
       "      <td>0.376471</td>\n",
       "      <td>0.388235</td>\n",
       "      <td>0.439216</td>\n",
       "      <td>0.505882</td>\n",
       "      <td>0.478431</td>\n",
       "      <td>0.341176</td>\n",
       "      <td>0.239216</td>\n",
       "      <td>0.243137</td>\n",
       "    </tr>\n",
       "    <tr>\n",
       "      <th>3</th>\n",
       "      <td>0.913725</td>\n",
       "      <td>0.905882</td>\n",
       "      <td>0.905882</td>\n",
       "      <td>0.917647</td>\n",
       "      <td>0.917647</td>\n",
       "      <td>0.917647</td>\n",
       "      <td>0.905882</td>\n",
       "      <td>0.894118</td>\n",
       "      <td>0.890196</td>\n",
       "      <td>0.898039</td>\n",
       "      <td>...</td>\n",
       "      <td>0.698039</td>\n",
       "      <td>0.721569</td>\n",
       "      <td>0.733333</td>\n",
       "      <td>0.729412</td>\n",
       "      <td>0.749020</td>\n",
       "      <td>0.749020</td>\n",
       "      <td>0.756863</td>\n",
       "      <td>0.749020</td>\n",
       "      <td>0.733333</td>\n",
       "      <td>0.733333</td>\n",
       "    </tr>\n",
       "    <tr>\n",
       "      <th>4</th>\n",
       "      <td>0.301961</td>\n",
       "      <td>0.298039</td>\n",
       "      <td>0.290196</td>\n",
       "      <td>0.286275</td>\n",
       "      <td>0.286275</td>\n",
       "      <td>0.290196</td>\n",
       "      <td>0.286275</td>\n",
       "      <td>0.290196</td>\n",
       "      <td>0.290196</td>\n",
       "      <td>0.290196</td>\n",
       "      <td>...</td>\n",
       "      <td>0.223529</td>\n",
       "      <td>0.223529</td>\n",
       "      <td>0.223529</td>\n",
       "      <td>0.223529</td>\n",
       "      <td>0.223529</td>\n",
       "      <td>0.223529</td>\n",
       "      <td>0.223529</td>\n",
       "      <td>0.223529</td>\n",
       "      <td>0.223529</td>\n",
       "      <td>0.223529</td>\n",
       "    </tr>\n",
       "  </tbody>\n",
       "</table>\n",
       "<p>5 rows × 16384 columns</p>\n",
       "</div>"
      ],
      "text/plain": [
       "          0         1         2         3         4         5         6  \\\n",
       "0  0.090196  0.090196  0.090196  0.090196  0.090196  0.090196  0.090196   \n",
       "1  0.333333  0.349020  0.345098  0.317647  0.321569  0.329412  0.313725   \n",
       "2  0.674510  0.662745  0.686275  0.721569  0.709804  0.666667  0.650980   \n",
       "3  0.913725  0.905882  0.905882  0.917647  0.917647  0.917647  0.905882   \n",
       "4  0.301961  0.298039  0.290196  0.286275  0.286275  0.290196  0.286275   \n",
       "\n",
       "          7         8         9    ...        16374     16375     16376  \\\n",
       "0  0.090196  0.090196  0.090196    ...     0.113725  0.117647  0.117647   \n",
       "1  0.321569  0.321569  0.329412    ...     0.309804  0.294118  0.301961   \n",
       "2  0.650980  0.705882  0.741176    ...     0.290196  0.376471  0.376471   \n",
       "3  0.894118  0.890196  0.898039    ...     0.698039  0.721569  0.733333   \n",
       "4  0.290196  0.290196  0.290196    ...     0.223529  0.223529  0.223529   \n",
       "\n",
       "      16377     16378     16379     16380     16381     16382     16383  \n",
       "0  0.117647  0.121569  0.125490  0.129412  0.133333  0.129412  0.125490  \n",
       "1  0.278431  0.282353  0.294118  0.301961  0.321569  0.317647  0.294118  \n",
       "2  0.388235  0.439216  0.505882  0.478431  0.341176  0.239216  0.243137  \n",
       "3  0.729412  0.749020  0.749020  0.756863  0.749020  0.733333  0.733333  \n",
       "4  0.223529  0.223529  0.223529  0.223529  0.223529  0.223529  0.223529  \n",
       "\n",
       "[5 rows x 16384 columns]"
      ]
     },
     "execution_count": 55,
     "metadata": {},
     "output_type": "execute_result"
    }
   ],
   "source": [
    "X_n= X/255.0\n",
    "X_n.head()"
   ]
  },
  {
   "cell_type": "code",
   "execution_count": 20,
   "metadata": {},
   "outputs": [
    {
     "name": "stdout",
     "output_type": "stream",
     "text": [
      "Start training:  Fri Apr 21 13:59:03 2017\n"
     ]
    }
   ],
   "source": [
    "start_time = time.clock()\n",
    "print('Start training: ', time.ctime())"
   ]
  },
  {
   "cell_type": "code",
   "execution_count": 21,
   "metadata": {},
   "outputs": [
    {
     "data": {
      "text/plain": [
       "LinearSVC(C=1.0, class_weight=None, dual=True, fit_intercept=True,\n",
       "     intercept_scaling=1, loss='squared_hinge', max_iter=1000,\n",
       "     multi_class='ovr', penalty='l2', random_state=None, tol=0.0001,\n",
       "     verbose=0)"
      ]
     },
     "execution_count": 21,
     "metadata": {},
     "output_type": "execute_result"
    }
   ],
   "source": [
    "# build the classifier\n",
    "#lin_clf = svm.LinearSVC(class_weight='auto') # If dataset is unbalanced\n",
    "norm_clf = svm.LinearSVC()\n",
    "norm_clf.fit(X_n,Y)"
   ]
  },
  {
   "cell_type": "code",
   "execution_count": 22,
   "metadata": {},
   "outputs": [
    {
     "name": "stdout",
     "output_type": "stream",
     "text": [
      "Train end:  Fri Apr 21 14:16:12 2017\n",
      "Training time: 0:17:09\n"
     ]
    }
   ],
   "source": [
    "print('Train end: ', time.ctime())\n",
    "time_sec = time.clock() - start_time\n",
    "m, s = divmod(time_sec, 60)\n",
    "h, m = divmod(m, 60)\n",
    "print (\"Training time: %d:%02d:%02d\" % (h, m, s))"
   ]
  },
  {
   "cell_type": "code",
   "execution_count": 56,
   "metadata": {
    "collapsed": true
   },
   "outputs": [],
   "source": [
    "import pickle\n",
    "# save the model to disk\n",
    "filename = 'svn_norm_finalized_model.sav'\n",
    "pickle.dump(norm_clf, open(filename, 'wb'))"
   ]
  },
  {
   "cell_type": "code",
   "execution_count": 23,
   "metadata": {},
   "outputs": [
    {
     "name": "stdout",
     "output_type": "stream",
     "text": [
      "Accuracy : 0.9994\n"
     ]
    }
   ],
   "source": [
    "# load the model from disk\n",
    "#norm_clf = pickle.load(open(filename, 'rb'))\n",
    "print('Accuracy :',norm_clf.score(X_n, Y))"
   ]
  },
  {
   "cell_type": "code",
   "execution_count": 42,
   "metadata": {
    "collapsed": true
   },
   "outputs": [],
   "source": [
    "norm_clf_acc_train=norm_clf.score(X_n, Y)"
   ]
  },
  {
   "cell_type": "code",
   "execution_count": 24,
   "metadata": {
    "collapsed": true
   },
   "outputs": [],
   "source": [
    "X_verify_n= X_verify/255.0"
   ]
  },
  {
   "cell_type": "code",
   "execution_count": 25,
   "metadata": {},
   "outputs": [
    {
     "name": "stdout",
     "output_type": "stream",
     "text": [
      "Accuracy on verification set: 0.663\n"
     ]
    }
   ],
   "source": [
    "print (\"Accuracy on verification set:\", norm_clf.score(X_verify_n, Y_verify))"
   ]
  },
  {
   "cell_type": "code",
   "execution_count": 43,
   "metadata": {
    "collapsed": true
   },
   "outputs": [],
   "source": [
    "norm_clf_acc_verify=norm_clf.score(X_verify_n, Y_verify)"
   ]
  },
  {
   "cell_type": "raw",
   "metadata": {},
   "source": [
    "Normalized balanced dataset:\n",
    "Accuracy : 0.408694503171\n",
    "Accuracy on verification set: 0.117531585041"
   ]
  },
  {
   "cell_type": "markdown",
   "metadata": {
    "collapsed": true
   },
   "source": [
    "# Black and White data"
   ]
  },
  {
   "cell_type": "code",
   "execution_count": 27,
   "metadata": {
    "collapsed": true
   },
   "outputs": [],
   "source": [
    "X_bw = X\n",
    "X_bw[X_bw>0]=1"
   ]
  },
  {
   "cell_type": "code",
   "execution_count": 9,
   "metadata": {},
   "outputs": [
    {
     "data": {
      "text/html": [
       "<div>\n",
       "<table border=\"1\" class=\"dataframe\">\n",
       "  <thead>\n",
       "    <tr style=\"text-align: right;\">\n",
       "      <th></th>\n",
       "      <th>0</th>\n",
       "      <th>1</th>\n",
       "      <th>2</th>\n",
       "      <th>3</th>\n",
       "      <th>4</th>\n",
       "      <th>5</th>\n",
       "      <th>6</th>\n",
       "      <th>7</th>\n",
       "      <th>8</th>\n",
       "      <th>9</th>\n",
       "      <th>...</th>\n",
       "      <th>4086</th>\n",
       "      <th>4087</th>\n",
       "      <th>4088</th>\n",
       "      <th>4089</th>\n",
       "      <th>4090</th>\n",
       "      <th>4091</th>\n",
       "      <th>4092</th>\n",
       "      <th>4093</th>\n",
       "      <th>4094</th>\n",
       "      <th>4095</th>\n",
       "    </tr>\n",
       "  </thead>\n",
       "  <tbody>\n",
       "    <tr>\n",
       "      <th>0</th>\n",
       "      <td>1</td>\n",
       "      <td>1</td>\n",
       "      <td>1</td>\n",
       "      <td>1</td>\n",
       "      <td>1</td>\n",
       "      <td>1</td>\n",
       "      <td>1</td>\n",
       "      <td>1</td>\n",
       "      <td>1</td>\n",
       "      <td>1</td>\n",
       "      <td>...</td>\n",
       "      <td>1</td>\n",
       "      <td>1</td>\n",
       "      <td>1</td>\n",
       "      <td>1</td>\n",
       "      <td>1</td>\n",
       "      <td>1</td>\n",
       "      <td>1</td>\n",
       "      <td>1</td>\n",
       "      <td>1</td>\n",
       "      <td>1</td>\n",
       "    </tr>\n",
       "    <tr>\n",
       "      <th>1</th>\n",
       "      <td>1</td>\n",
       "      <td>1</td>\n",
       "      <td>1</td>\n",
       "      <td>1</td>\n",
       "      <td>1</td>\n",
       "      <td>1</td>\n",
       "      <td>1</td>\n",
       "      <td>1</td>\n",
       "      <td>1</td>\n",
       "      <td>1</td>\n",
       "      <td>...</td>\n",
       "      <td>1</td>\n",
       "      <td>1</td>\n",
       "      <td>1</td>\n",
       "      <td>1</td>\n",
       "      <td>1</td>\n",
       "      <td>1</td>\n",
       "      <td>1</td>\n",
       "      <td>1</td>\n",
       "      <td>1</td>\n",
       "      <td>1</td>\n",
       "    </tr>\n",
       "    <tr>\n",
       "      <th>2</th>\n",
       "      <td>1</td>\n",
       "      <td>1</td>\n",
       "      <td>1</td>\n",
       "      <td>1</td>\n",
       "      <td>1</td>\n",
       "      <td>1</td>\n",
       "      <td>1</td>\n",
       "      <td>1</td>\n",
       "      <td>1</td>\n",
       "      <td>1</td>\n",
       "      <td>...</td>\n",
       "      <td>1</td>\n",
       "      <td>1</td>\n",
       "      <td>1</td>\n",
       "      <td>1</td>\n",
       "      <td>1</td>\n",
       "      <td>1</td>\n",
       "      <td>1</td>\n",
       "      <td>1</td>\n",
       "      <td>1</td>\n",
       "      <td>1</td>\n",
       "    </tr>\n",
       "    <tr>\n",
       "      <th>3</th>\n",
       "      <td>1</td>\n",
       "      <td>1</td>\n",
       "      <td>1</td>\n",
       "      <td>1</td>\n",
       "      <td>1</td>\n",
       "      <td>1</td>\n",
       "      <td>1</td>\n",
       "      <td>1</td>\n",
       "      <td>1</td>\n",
       "      <td>1</td>\n",
       "      <td>...</td>\n",
       "      <td>1</td>\n",
       "      <td>1</td>\n",
       "      <td>1</td>\n",
       "      <td>1</td>\n",
       "      <td>1</td>\n",
       "      <td>1</td>\n",
       "      <td>1</td>\n",
       "      <td>1</td>\n",
       "      <td>1</td>\n",
       "      <td>1</td>\n",
       "    </tr>\n",
       "    <tr>\n",
       "      <th>4</th>\n",
       "      <td>1</td>\n",
       "      <td>1</td>\n",
       "      <td>1</td>\n",
       "      <td>1</td>\n",
       "      <td>1</td>\n",
       "      <td>1</td>\n",
       "      <td>1</td>\n",
       "      <td>1</td>\n",
       "      <td>1</td>\n",
       "      <td>1</td>\n",
       "      <td>...</td>\n",
       "      <td>1</td>\n",
       "      <td>1</td>\n",
       "      <td>1</td>\n",
       "      <td>1</td>\n",
       "      <td>1</td>\n",
       "      <td>1</td>\n",
       "      <td>1</td>\n",
       "      <td>1</td>\n",
       "      <td>1</td>\n",
       "      <td>1</td>\n",
       "    </tr>\n",
       "  </tbody>\n",
       "</table>\n",
       "<p>5 rows × 4096 columns</p>\n",
       "</div>"
      ],
      "text/plain": [
       "   0  1  2  3  4  5  6  7  8  9  ...   4086  4087  4088  4089  4090  4091  \\\n",
       "0  1  1  1  1  1  1  1  1  1  1  ...      1     1     1     1     1     1   \n",
       "1  1  1  1  1  1  1  1  1  1  1  ...      1     1     1     1     1     1   \n",
       "2  1  1  1  1  1  1  1  1  1  1  ...      1     1     1     1     1     1   \n",
       "3  1  1  1  1  1  1  1  1  1  1  ...      1     1     1     1     1     1   \n",
       "4  1  1  1  1  1  1  1  1  1  1  ...      1     1     1     1     1     1   \n",
       "\n",
       "   4092  4093  4094  4095  \n",
       "0     1     1     1     1  \n",
       "1     1     1     1     1  \n",
       "2     1     1     1     1  \n",
       "3     1     1     1     1  \n",
       "4     1     1     1     1  \n",
       "\n",
       "[5 rows x 4096 columns]"
      ]
     },
     "execution_count": 9,
     "metadata": {},
     "output_type": "execute_result"
    }
   ],
   "source": [
    "X_bw.head()"
   ]
  },
  {
   "cell_type": "code",
   "execution_count": 32,
   "metadata": {},
   "outputs": [
    {
     "name": "stdout",
     "output_type": "stream",
     "text": [
      "Start training:  Fri Apr 21 14:25:52 2017\n"
     ]
    },
    {
     "data": {
      "text/plain": [
       "LinearSVC(C=1.0, class_weight=None, dual=True, fit_intercept=True,\n",
       "     intercept_scaling=1, loss='squared_hinge', max_iter=1000,\n",
       "     multi_class='ovr', penalty='l2', random_state=None, tol=0.0001,\n",
       "     verbose=0)"
      ]
     },
     "execution_count": 32,
     "metadata": {},
     "output_type": "execute_result"
    }
   ],
   "source": [
    "start_time = time.clock()\n",
    "print('Start training: ', time.ctime())\n",
    "# build the classifier\n",
    "#lin_clf = svm.LinearSVC(class_weight='auto') # If dataset is unbalanced\n",
    "clf = svm.LinearSVC()\n",
    "clf.fit(X_bw,Y)"
   ]
  },
  {
   "cell_type": "code",
   "execution_count": 33,
   "metadata": {},
   "outputs": [
    {
     "name": "stdout",
     "output_type": "stream",
     "text": [
      "Training time: 0:36:23\n"
     ]
    }
   ],
   "source": [
    "time_sec = time.clock() - start_time\n",
    "m, s = divmod(time_sec, 60)\n",
    "h, m = divmod(m, 60)\n",
    "print (\"Training time: %d:%02d:%02d\" % (h, m, s))"
   ]
  },
  {
   "cell_type": "code",
   "execution_count": 34,
   "metadata": {
    "collapsed": true
   },
   "outputs": [],
   "source": [
    "import pickle\n",
    "# save the model to disk\n",
    "filename = 'svn_bw_finalized_model.sav'\n",
    "pickle.dump(clf, open(filename, 'wb'))"
   ]
  },
  {
   "cell_type": "code",
   "execution_count": 35,
   "metadata": {},
   "outputs": [
    {
     "name": "stdout",
     "output_type": "stream",
     "text": [
      "Accuracy : 0.458\n"
     ]
    }
   ],
   "source": [
    "# load the model from disk\n",
    "#lin_clf = pickle.load(open(filename, 'rb'))\n",
    "print('Accuracy :',clf.score(X_bw, Y))"
   ]
  },
  {
   "cell_type": "code",
   "execution_count": 36,
   "metadata": {
    "collapsed": true
   },
   "outputs": [],
   "source": [
    "bw_clf_acc_train=clf.score(X_bw, Y)"
   ]
  },
  {
   "cell_type": "code",
   "execution_count": 37,
   "metadata": {
    "collapsed": true
   },
   "outputs": [],
   "source": [
    "X_verify_bw =X_verify\n",
    "X_verify_bw[X_verify_bw>0]=1"
   ]
  },
  {
   "cell_type": "code",
   "execution_count": 38,
   "metadata": {},
   "outputs": [
    {
     "name": "stdout",
     "output_type": "stream",
     "text": [
      "Accuracy on verification set: 0.2185\n"
     ]
    }
   ],
   "source": [
    "print (\"Accuracy on verification set:\", clf.score(X_verify_bw, Y_verify))"
   ]
  },
  {
   "cell_type": "code",
   "execution_count": 39,
   "metadata": {
    "collapsed": true
   },
   "outputs": [],
   "source": [
    "bw_clf_acc_verify=clf.score(X_verify_bw, Y_verify)"
   ]
  },
  {
   "cell_type": "raw",
   "metadata": {
    "collapsed": true
   },
   "source": [
    "Black and Wtite dataset:\n",
    "Accuracy : 0.149511099366\n",
    "Accuracy on verification set: 0.0211405848895"
   ]
  },
  {
   "cell_type": "code",
   "execution_count": 54,
   "metadata": {},
   "outputs": [
    {
     "name": "stdout",
     "output_type": "stream",
     "text": [
      "Linear : 0.9988\n",
      "Linear : 0.6565\n",
      "Normalized : 0.3558\n",
      "Normalized : 0.656\n",
      "Black and White : 0.458\n",
      "Black and White : 0.2185\n"
     ]
    }
   ],
   "source": [
    "print('Linear :',lin_clf_acc_train) \n",
    "print('Linear :',lin_clf_acc_verify) \n",
    "print('Normalized :',norm_clf_acc_train) \n",
    "print('Normalized :',norm_clf_acc_verify) \n",
    "print('Black and White :',bw_clf_acc_train) \n",
    "print('Black and White :',bw_clf_acc_verify) \n"
   ]
  },
  {
   "cell_type": "code",
   "execution_count": 58,
   "metadata": {},
   "outputs": [],
   "source": [
    "# train\n",
    "training_data_0 =X_n\n",
    "training_data_1 =Y\n",
    "test_data_0 =X_verify_n\n",
    "test_data_1 =Y_verify"
   ]
  },
  {
   "cell_type": "code",
   "execution_count": 59,
   "metadata": {},
   "outputs": [
    {
     "name": "stdout",
     "output_type": "stream",
     "text": [
      "Start training:  Fri Apr 21 15:15:34 2017\n",
      "End training:  Fri Apr 21 15:43:13 2017\n"
     ]
    }
   ],
   "source": [
    "print('Start training: ', time.ctime())\n",
    "clf = svm.SVC()\n",
    "clf.fit(training_data_0, training_data_1)\n",
    "print('End training: ', time.ctime())"
   ]
  },
  {
   "cell_type": "code",
   "execution_count": null,
   "metadata": {},
   "outputs": [
    {
     "name": "stdout",
     "output_type": "stream",
     "text": [
      "Baseline classifier using an SVM.\n",
      "1322 of 2000 values correct.\n"
     ]
    }
   ],
   "source": [
    "# test\n",
    "predictions = [a for a in clf.predict(test_data_0)]\n",
    "num_correct = sum(int(a == y) for a, y in zip(predictions, test_data_1))\n",
    "print(\"Baseline classifier using an SVM.\")\n",
    "print(\"%s of %s values correct.\" % (num_correct, len(test_data_1)))"
   ]
  },
  {
   "cell_type": "code",
   "execution_count": null,
   "metadata": {
    "collapsed": true
   },
   "outputs": [],
   "source": [
    "print('Training score:', clf.score(training_data_0, training_data_1))\n",
    "print('Verify score:', clf.score(test_data_0, test_data_1))"
   ]
  },
  {
   "cell_type": "code",
   "execution_count": null,
   "metadata": {
    "collapsed": true
   },
   "outputs": [],
   "source": []
  }
 ],
 "metadata": {
  "kernelspec": {
   "display_name": "Python 3",
   "language": "python",
   "name": "python3"
  },
  "language_info": {
   "codemirror_mode": {
    "name": "ipython",
    "version": 3
   },
   "file_extension": ".py",
   "mimetype": "text/x-python",
   "name": "python",
   "nbconvert_exporter": "python",
   "pygments_lexer": "ipython3",
   "version": "3.6.0"
  }
 },
 "nbformat": 4,
 "nbformat_minor": 2
}
